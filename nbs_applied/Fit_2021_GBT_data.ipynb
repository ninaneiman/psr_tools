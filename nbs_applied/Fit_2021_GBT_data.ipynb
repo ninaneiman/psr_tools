{
 "cells": [
  {
   "cell_type": "code",
   "execution_count": null,
   "id": "12e60228",
   "metadata": {},
   "outputs": [],
   "source": [
    "%load_ext autoreload\n",
    "%autoreload 2\n",
    "%matplotlib inline"
   ]
  },
  {
   "cell_type": "code",
   "execution_count": null,
   "id": "bf6c0cd1",
   "metadata": {},
   "outputs": [],
   "source": [
    "import warnings\n",
    "warnings.filterwarnings(\"ignore\")"
   ]
  },
  {
   "cell_type": "code",
   "execution_count": null,
   "id": "7b668d5d",
   "metadata": {},
   "outputs": [],
   "source": [
    "from glob import glob\n",
    "import os, math, time\n",
    "import sys\n",
    "sys.path.insert(1, '/home/gusinskaia/psr_tools')\n",
    "\n",
    "import numpy as np\n",
    "import pickle\n",
    "\n",
    "import astropy\n",
    "from astropy import units as u, constants as const\n",
    "from astropy.time import Time\n",
    "from astropy.visualization import quantity_support\n",
    "\n",
    "import matplotlib.pyplot as plt\n",
    "from matplotlib.colors import LogNorm\n",
    "import matplotlib as mpl\n",
    "\n",
    "from scipy.sparse.linalg import eigsh\n",
    "from scipy.optimize import curve_fit\n",
    "import scipy.linalg\n",
    "\n",
    "import load_data as ld\n",
    "import ds_psr as dsa\n",
    "import fit_thth as fth\n",
    "import models_thth as mth\n",
    "import wsrt_fits as wf\n",
    "import gbt_fits as gf\n",
    "import ththmod as THTH\n",
    "\n",
    "plt.rcParams['figure.dpi'] = 150"
   ]
  },
  {
   "cell_type": "markdown",
   "id": "21915e02",
   "metadata": {},
   "source": [
    "# All the data:"
   ]
  },
  {
   "cell_type": "code",
   "execution_count": null,
   "id": "6677817e",
   "metadata": {},
   "outputs": [],
   "source": [
    "gbt_dir='/mnt/scratch-lustre/gusinskaia/triple_system/2021_GBT_dss/'\n",
    "names=sorted(glob(gbt_dir+'*'))\n",
    "\n",
    "\n",
    "actual_names=[x.split('/')[-1] for x in names]\n",
    "mjds=[x.split('_')[0] for x in actual_names]\n",
    "path_name=names[0].split(actual_names[0])[0]\n",
    "\n",
    "print (mjds)\n",
    "print (path_name)"
   ]
  },
  {
   "cell_type": "code",
   "execution_count": null,
   "id": "335fafcb",
   "metadata": {
    "scrolled": true
   },
   "outputs": [],
   "source": [
    "spec_59297=gf.load_new_gbt(59297)#too short\n",
    "spec_59299=gf.load_new_gbt(59299)\n",
    "spec_59324=gf.load_new_gbt(59324)\n",
    "spec_59363=gf.load_new_gbt(59363)\n",
    "spec_59399=gf.load_new_gbt(59399)\n",
    "spec_59403=gf.load_new_gbt(59403)\n",
    "spec_59426=gf.load_new_gbt(59426)#too short\n",
    "spec_59434=gf.load_new_gbt(59434)#too short\n",
    "spec_59464=gf.load_new_gbt(59464)#too short\n",
    "spec_59496=gf.load_new_gbt(59496)\n",
    "spec_59496=gf.load_new_gbt(59496)\n",
    "spec_59498=gf.load_new_gbt(59498)\n",
    "spec_59518=gf.load_new_gbt(59518)\n",
    "spec_59545=gf.load_new_gbt(59545)\n",
    "spec_59574=gf.load_new_gbt(59574)\n",
    "\n",
    "spec_59647_fin=gf.load_new_gbt(59647, shrink=[1,1])\n",
    "spec_59647_st=gf.load_new_gbt(59646, shrink=[1,1])\n",
    "spec_59647=spec_59647_st+spec_59647_fin\n",
    "spec_59647=spec_59647.shrink([10,1])\n",
    "\n",
    "spec_59673=gf.load_new_gbt(59673)\n",
    "spec_59699=gf.load_new_gbt(59699)\n",
    "spec_59722=gf.load_new_gbt(59722)\n",
    "spec_59732=gf.load_new_gbt(59732)\n",
    "\n",
    "spec_59747_st=gf.load_new_gbt(59747, extention='_GBT_1400_wns_check01.npz', shrink=[1,1])\n",
    "spec_59747_fin=gf.load_new_gbt(59747, extention='_GBT_1400_wns_check02.npz', shrink=[1,1])\n",
    "spec_59747=spec_59747_st+spec_59747_fin\n",
    "spec_59747=spec_59747.shrink([10,1])\n",
    "\n",
    "spec_59770=gf.load_new_gbt(59770)\n",
    "spec_59797=gf.load_new_gbt(59797)\n",
    "spec_59827=gf.load_new_gbt(59827)\n",
    "spec_59855=gf.load_new_gbt(59855)\n",
    "spec_59886=gf.load_new_gbt(59886, shrink=[5,1])\n",
    "spec_59915=gf.load_new_gbt(59915, shrink=[5,1])\n",
    "\n",
    "spec_59919_st=gf.load_new_gbt(59919, extention='_GBT_1400_wns_check01.npz', shrink=[1,1])\n",
    "spec_59919_mid=gf.load_new_gbt(59919, extention='_GBT_1400_wns_check02.npz', shrink=[1,1])\n",
    "spec_59919_fin=gf.load_new_gbt(59919, extention='_GBT_1400_wns_check03.npz', shrink=[1,1])\n",
    "spec_59919_stmid=spec_59919_st+spec_59919_mid\n",
    "spec_59919=spec_59919_stmid+spec_59919_fin\n",
    "\n",
    "spec_59943=gf.load_new_gbt(59943)\n",
    "spec_60055=gf.load_new_gbt(60055)\n",
    "spec_60341=gf.load_new_gbt(60341)\n",
    "spec_60349=gf.load_new_gbt(60349)\n",
    "spec_60397=gf.load_new_gbt(60397)"
   ]
  },
  {
   "cell_type": "code",
   "execution_count": null,
   "id": "d435dab0-661f-4e41-9e76-4eda1d26526f",
   "metadata": {},
   "outputs": [],
   "source": [
    "spec_60401=gf.load_new_gbt(60401)\n",
    "spec_60423=gf.load_new_gbt(60423)\n",
    "spec_60449=gf.load_new_gbt(60449)\n",
    "spec_60454=gf.load_new_gbt(60454)"
   ]
  },
  {
   "cell_type": "code",
   "execution_count": null,
   "id": "9571526a",
   "metadata": {},
   "outputs": [],
   "source": [
    "spec_59919.f"
   ]
  },
  {
   "cell_type": "code",
   "execution_count": null,
   "id": "6d43730f-b906-4e65-af60-9b10219a19ae",
   "metadata": {},
   "outputs": [],
   "source": [
    "spec_60454.plot_ds()"
   ]
  },
  {
   "cell_type": "code",
   "execution_count": null,
   "id": "9da02e49",
   "metadata": {
    "scrolled": true
   },
   "outputs": [],
   "source": [
    "spec_60341.plot_ds()"
   ]
  },
  {
   "cell_type": "code",
   "execution_count": null,
   "id": "2f76b38a",
   "metadata": {},
   "outputs": [],
   "source": [
    "spec_60397.select(freq_sel=[1149.8*u.MHz,1300*u.MHz]).plot_ss()"
   ]
  },
  {
   "cell_type": "code",
   "execution_count": null,
   "id": "9e03713a",
   "metadata": {},
   "outputs": [],
   "source": [
    "spec_59919=spec_59919.shrink([5,1])"
   ]
  },
  {
   "cell_type": "code",
   "execution_count": null,
   "id": "5a52bfd2",
   "metadata": {},
   "outputs": [],
   "source": [
    "all_specs=[spec_59297,spec_59299,spec_59324,spec_59363,spec_59399,spec_59403,spec_59426,spec_59434,spec_59464,\n",
    "           spec_59496,spec_59498,spec_59518,spec_59545,spec_59574,spec_59647,spec_59673,spec_59699,spec_59722,\n",
    "           spec_59732,spec_59747,spec_59770,spec_59797,spec_59827,spec_59855,spec_59886,spec_59915,spec_59919,\n",
    "           spec_59943,spec_60055]\n",
    "most_specs=[spec_59299,spec_59324,spec_59363,spec_59399,spec_59403,spec_59496,spec_59498,spec_59518,spec_59545,\n",
    "            spec_59574,spec_59647,spec_59673,spec_59699,spec_59722,spec_59732,spec_59747,spec_59770,spec_59827,\n",
    "            spec_59855,spec_59886,spec_59915,spec_59919]"
   ]
  },
  {
   "cell_type": "code",
   "execution_count": null,
   "id": "3833811d",
   "metadata": {},
   "outputs": [],
   "source": [
    "def plot_one_ss(spec, fig, rect, tclr='k', put_ylabels=True, title_mjd=False):\n",
    "    fig.add_axes(rect)\n",
    "    frame1=plt.gca()\n",
    "    spec.plot_ss(new_fig=False, tau_lim=[0.0,1.25], fd_lim=[-1.95,1.95], vmin=3e3,vmax=3e6, cb=False)\n",
    "    if title_mjd is True:\n",
    "        plt.title('%.2f'%spec.mjd[0].mjd, color=tclr)\n",
    "    else:\n",
    "        plt.title(spec.mjd.iso[int(len(spec.mjd.mjd)/2)][:10], color=tclr)\n",
    "    if put_ylabels is False:\n",
    "        frame1.axes.get_yaxis().set_tick_params(labelleft=False)\n",
    "        frame1.axes.set_ylabel('')"
   ]
  },
  {
   "cell_type": "code",
   "execution_count": null,
   "id": "e114126b",
   "metadata": {},
   "outputs": [],
   "source": [
    "len(all_specs)"
   ]
  },
  {
   "cell_type": "code",
   "execution_count": null,
   "id": "10098175",
   "metadata": {},
   "outputs": [],
   "source": [
    "fig=plt.figure(figsize=(10,1.7), dpi=150)\n",
    "for i in range(0,len(all_specs)):\n",
    "    #print (np.mean(all_specs[i].mjd.mjd), np.ptp(all_specs[i].mjd.mjd))\n",
    "    if i%7 == 0:\n",
    "        put_ylabels=True\n",
    "    else:\n",
    "        put_ylabels=False\n",
    "    rect=[0.16*(i%7), -1.5*(i//7), 0.15, 1]\n",
    "    fig.add_axes(rect)\n",
    "    frame1=plt.gca()\n",
    "    all_specs[i].select(freq_sel=[1149.8*u.MHz,1600*u.MHz]).plot_ds(new_fig=False)\n",
    "    frame1.axes.get_yaxis().set_tick_params(labelleft=False)\n",
    "    frame1.axes.set_ylabel('')\n",
    "plt.show()"
   ]
  },
  {
   "cell_type": "code",
   "execution_count": null,
   "id": "e5a2d7e4",
   "metadata": {},
   "outputs": [],
   "source": [
    "fig=plt.figure(figsize=(10,1.7), dpi=150)\n",
    "for i in range(0,len(all_specs)):\n",
    "    #print (np.mean(all_specs[i].mjd.mjd), np.ptp(all_specs[i].mjd.mjd))\n",
    "    if i%7 == 0:\n",
    "        put_ylabels=True\n",
    "    else:\n",
    "        put_ylabels=False\n",
    "    rect=[0.16*(i%7), -1.5*(i//7), 0.15, 1]\n",
    "    fig.add_axes(rect)\n",
    "    frame1=plt.gca()\n",
    "    all_specs[i].select(freq_sel=[1600*u.MHz,1850*u.MHz]).plot_ds(new_fig=False)\n",
    "    frame1.axes.get_yaxis().set_tick_params(labelleft=False)\n",
    "    frame1.axes.set_ylabel('')\n",
    "plt.show()"
   ]
  },
  {
   "cell_type": "code",
   "execution_count": null,
   "id": "0db75858",
   "metadata": {},
   "outputs": [],
   "source": [
    "fig=plt.figure(figsize=(10,1.7), dpi=150)\n",
    "for i in range(0,len(all_specs)):\n",
    "    #print (np.mean(all_specs[i].mjd.mjd), np.ptp(all_specs[i].mjd.mjd))\n",
    "    if i%7 == 0:\n",
    "        put_ylabels=True\n",
    "    else:\n",
    "        put_ylabels=False\n",
    "    rect=[0.16*(i%7), -1.5*(i//7), 0.15, 1]\n",
    "    fig.add_axes(rect)\n",
    "    frame1=plt.gca()\n",
    "    all_specs[i].select(freq_sel=[1600*u.MHz,1850*u.MHz]).plot_ss(new_fig=False)\n",
    "    frame1.axes.get_yaxis().set_tick_params(labelleft=False)\n",
    "    frame1.axes.set_ylabel('')\n",
    "plt.show()"
   ]
  },
  {
   "cell_type": "code",
   "execution_count": null,
   "id": "c4fcd5a2",
   "metadata": {},
   "outputs": [],
   "source": [
    "fig=plt.figure(figsize=(10,1.7), dpi=150)\n",
    "for i in range(0,len(all_specs)):\n",
    "    #print (np.mean(all_specs[i].mjd.mjd), np.ptp(all_specs[i].mjd.mjd))\n",
    "    if i%7 == 0:\n",
    "        put_ylabels=True\n",
    "    else:\n",
    "        put_ylabels=False\n",
    "    rect=[0.16*(i%7), -1.5*(i//7), 0.15, 1]\n",
    "    fig.add_axes(rect)\n",
    "    frame1=plt.gca()\n",
    "    all_specs[i].select(freq_sel=[1100*u.MHz,1600*u.MHz]).plot_ss(new_fig=False)\n",
    "    frame1.axes.get_yaxis().set_tick_params(labelleft=False)\n",
    "    frame1.axes.set_ylabel('')\n",
    "plt.show()"
   ]
  },
  {
   "cell_type": "code",
   "execution_count": null,
   "id": "fbd307d4",
   "metadata": {},
   "outputs": [],
   "source": [
    "t_clrs=['r','k','k','k','k','k','r','r','r','k','k','k','k','k','k','k','k','k','k',\n",
    "       'k','k','r','k','k','k','k','k','r','r']\n",
    "fig=plt.figure(figsize=(10,1.7), dpi=150)\n",
    "for i in range(0,len(all_specs)-1):\n",
    "    if t_clrs[i] == 'r': \n",
    "        print (np.mean(all_specs[i].mjd.mjd), np.ptp(all_specs[i].mjd.mjd))\n",
    "    if i%7 == 0:\n",
    "        put_ylabels=True\n",
    "    else:\n",
    "        put_ylabels=False\n",
    "    plot_one_ss(all_specs[i], fig, rect=[0.16*(i%7), -1.5*(i//7), 0.15, 1], tclr=t_clrs[i],\n",
    "               put_ylabels=put_ylabels, title_mjd=True)\n",
    "plt.savefig('GBT_all_ss_v3_mjd.pdf', format='pdf',bbox_inches='tight',dpi=150)\n",
    "plt.show()"
   ]
  },
  {
   "cell_type": "code",
   "execution_count": null,
   "id": "2c6bade8",
   "metadata": {},
   "outputs": [],
   "source": [
    "fig=plt.figure(figsize=(10,1.7), dpi=150)\n",
    "for i in range(0,len(most_specs)):\n",
    "    plot_one_ss(most_specs[i], fig, rect=[0.225*(i%6), -1.5*(i//6), 0.15, 1])\n",
    "plt.show()"
   ]
  },
  {
   "cell_type": "code",
   "execution_count": null,
   "id": "32116863",
   "metadata": {},
   "outputs": [],
   "source": [
    "def plot_gbt_dsss(spec, save_it=False, fd_lim=[-1.5,1.5], ds=True, new_fig=True, fig=None, ss_xst=0.3,\n",
    "                 put_ylabels=True, plot_full_ss=True):\n",
    "    if new_fig is True:\n",
    "        fig=plt.figure(figsize=(7,7), dpi=150)\n",
    "    if ds is True:\n",
    "        fig.add_axes([0.0,0.0,0.2,1])\n",
    "        frame1=plt.gca()\n",
    "        spec.select(freq_sel=[1315*u.MHz,1840*u.MHz]).plot_ds(new_fig=False)\n",
    "        plt.title('%.3f'%spec.mjd[0].mjd)\n",
    "    if plot_full_ss is True:\n",
    "        fig.add_axes([ss_xst,0.75,0.25,0.25])\n",
    "        frame1=plt.gca()\n",
    "        spec.plot_ss(new_fig=False,tau_lim=[0.0,1.22], fd_lim=fd_lim)\n",
    "        plt.title('full SS\\n %.1f - %.1f MHz'%(spec.f[0].value, spec.f[-1].value))\n",
    "        if put_ylabels is False:\n",
    "            frame1.axes.get_yaxis().set_tick_params(labelleft=False)\n",
    "            frame1.axes.set_ylabel('')\n",
    "    fig.add_axes([ss_xst,0.0,0.25,0.25])\n",
    "    frame1=plt.gca()\n",
    "    spec.select(freq_sel=[1315*u.MHz,1540*u.MHz]).plot_ss(new_fig=False,tau_lim=[0.0,1.22], fd_lim=fd_lim)\n",
    "    if put_ylabels is False:\n",
    "        frame1.axes.get_yaxis().set_tick_params(labelleft=False)\n",
    "        frame1.axes.set_ylabel('')\n",
    "    plt.title('%.1f SS\\n 1315 - 1540 MHz'%spec.mjd[0].mjd)\n",
    "    fig.add_axes([ss_xst,0.375,0.25,0.25])\n",
    "    frame1=plt.gca()\n",
    "    spec.select(freq_sel=[1540*u.MHz,1840*u.MHz]).plot_ss(new_fig=False,tau_lim=[0.0,1.22], fd_lim=fd_lim)\n",
    "    if put_ylabels is False:\n",
    "        frame1.axes.get_yaxis().set_tick_params(labelleft=False)\n",
    "        frame1.axes.set_ylabel('')\n",
    "    plt.title('%.1f SS\\n 1540 - 1840 MHz'%spec.mjd[0].mjd)\n",
    "    if save_it is True:\n",
    "        mjd_name=int(np.mean(spec.mjd.mjd))\n",
    "        plt.savefig('GBT_%s_ds_ss.png'%mjd_name, format='png',bbox_inches='tight',dpi=150)"
   ]
  },
  {
   "cell_type": "code",
   "execution_count": null,
   "id": "6d222793",
   "metadata": {
    "scrolled": true
   },
   "outputs": [],
   "source": [
    "plot_gbt_dsss(spec_59574)\n",
    "plot_gbt_dsss(spec_59647, fd_lim=[-0.75,0.75])\n",
    "plot_gbt_dsss(spec_59732,fd_lim=[-2.5,2.5])\n",
    "plot_gbt_dsss(spec_59747,fd_lim=[-2.5,2.5])\n",
    "plot_gbt_dsss(spec_59770,fd_lim=[-2.5,2.5])\n",
    "plot_gbt_dsss(spec_59827)\n",
    "plot_gbt_dsss(spec_59855)\n",
    "plot_gbt_dsss(spec_59886,fd_lim=[-2.5,2.5])\n",
    "plot_gbt_dsss(spec_59915,fd_lim=[-2.5,2.5])\n",
    "plot_gbt_dsss(spec_59919,fd_lim=[-2.5,2.5])\n",
    "plot_gbt_dsss(spec_59943,fd_lim=[-2.5,2.5])\n",
    "plot_gbt_dsss(spec_60055,fd_lim=[-2.5,2.5])"
   ]
  },
  {
   "cell_type": "code",
   "execution_count": null,
   "id": "036b00c6",
   "metadata": {},
   "outputs": [],
   "source": [
    "def plot_ds_all(fig, spec, y_st, dur=5.77, ylabels=False):\n",
    "    y_wid=((spec.mjd[-1]-spec.mjd[0]).to(u.hr).value)*0.2/dur\n",
    "    fig.add_axes([y_st,0.0,y_wid,1])\n",
    "    frame1=plt.gca()\n",
    "    spec.select(freq_sel=[1315*u.MHz,1840*u.MHz]).plot_ds(new_fig=False)\n",
    "    plt.title('%.1f'%spec.mjd[0].mjd)\n",
    "    if ylabels is False:\n",
    "        frame1.axes.get_yaxis().set_ticks([])\n",
    "        plt.ylabel('')\n",
    "    new_y_st=y_st+y_wid+0.005\n",
    "    return new_y_st"
   ]
  },
  {
   "cell_type": "code",
   "execution_count": null,
   "id": "61863458",
   "metadata": {},
   "outputs": [],
   "source": [
    "fig=plt.figure(figsize=(7,5), dpi=150)\n",
    "y_st=plot_ds_all(fig, spec_59299, y_st=0.0, dur=5.77, ylabels=True)\n",
    "y_st=plot_ds_all(fig, spec_59403, y_st=0.22)"
   ]
  },
  {
   "cell_type": "code",
   "execution_count": null,
   "id": "a38a6273",
   "metadata": {},
   "outputs": [],
   "source": [
    "fig=plt.figure(figsize=(7,5), dpi=150)\n",
    "#y_st=plot_ds_all(fig, spec_59299, y_st=0.0, dur=5.77, ylabels=True)\n",
    "y_st=0\n",
    "for i in range(0,15):\n",
    "    y_st=plot_ds_all(fig, all_specs[i], y_st=y_st, ylabels=(i==0))\n",
    "\n",
    "plt.savefig('GBT_ds_all_1.pdf', format='pdf',bbox_inches='tight',dpi=150)    \n",
    "plt.show()\n",
    "print (y_st)\n",
    "\n",
    "fig=plt.figure(figsize=(7,5), dpi=150)\n",
    "y_st=0\n",
    "for i in range(15,29):\n",
    "    y_st=plot_ds_all(fig, all_specs[i], y_st=y_st, ylabels=(i==15))\n",
    "\n",
    "plt.savefig('GBT_ds_all_2.pdf', format='pdf',bbox_inches='tight',dpi=150)    \n",
    "plt.show()\n",
    "print (y_st)"
   ]
  },
  {
   "cell_type": "code",
   "execution_count": null,
   "id": "66f0b162",
   "metadata": {},
   "outputs": [],
   "source": [
    "fig=plt.figure(figsize=(7,5), dpi=150)\n",
    "dur_299=(spec_59299.mjd[-1]-spec_59299.mjd[0]).to(u.hr).value\n",
    "fig.add_axes([0.0,0.0,0.2,1])\n",
    "frame1=plt.gca()\n",
    "spec_59299.select(freq_sel=[1315*u.MHz,1840*u.MHz]).plot_ds(new_fig=False)\n",
    "plt.title('MJD: 59299')\n",
    "y_st=0.2+0.02\n",
    "\n",
    "y_wid=((spec_59403.mjd[-1]-spec_59403.mjd[0]).to(u.hr).value)*0.2/dur_299\n",
    "fig.add_axes([y_st,0.0,y_wid,1])\n",
    "frame1=plt.gca()\n",
    "spec_59403.select(freq_sel=[1315*u.MHz,1840*u.MHz]).plot_ds(new_fig=False)\n",
    "frame1.axes.get_yaxis().set_ticks([])\n",
    "plt.ylabel('')\n",
    "plt.title('MJD: 59403')\n",
    "y_st=y_st+y_wid+0.02\n",
    "\n",
    "y_wid=((spec_59498.mjd[-1]-spec_59498.mjd[0]).to(u.hr).value)*0.2/dur_299\n",
    "fig.add_axes([y_st,0.0,y_wid,1])\n",
    "frame1=plt.gca()\n",
    "spec_59498.select(freq_sel=[1315*u.MHz,1840*u.MHz]).plot_ds(new_fig=False)\n",
    "frame1.axes.get_yaxis().set_ticks([])\n",
    "plt.ylabel('')\n",
    "plt.title('MJD: 59498')\n",
    "y_st=y_st+y_wid+0.02\n",
    "\n",
    "y_wid=((spec_59574.mjd[-1]-spec_59574.mjd[0]).to(u.hr).value)*0.2/dur_299\n",
    "fig.add_axes([y_st,0.0,y_wid,1])\n",
    "frame1=plt.gca()\n",
    "spec_59574.select(freq_sel=[1315*u.MHz,1840*u.MHz]).plot_ds(new_fig=False)\n",
    "frame1.axes.get_yaxis().set_ticks([])\n",
    "plt.ylabel('')\n",
    "plt.title('MJD: 59575')\n",
    "y_st=y_st+y_wid+0.02\n",
    "\n",
    "y_wid=((spec_59647.mjd[-1]-spec_59647.mjd[0]).to(u.hr).value)*0.2/dur_299\n",
    "fig.add_axes([y_st,0.0,y_wid,1])\n",
    "frame1=plt.gca()\n",
    "spec_59647.select(freq_sel=[1315*u.MHz,1840*u.MHz]).plot_ds(new_fig=False)\n",
    "frame1.axes.get_yaxis().set_ticks([])\n",
    "plt.ylabel('')\n",
    "plt.title('MJD: 59647')\n",
    "y_st=y_st+y_wid+0.02\n",
    "\n",
    "y_wid=((spec_59732.mjd[-1]-spec_59732.mjd[0]).to(u.hr).value)*0.2/dur_299\n",
    "fig.add_axes([y_st,0.0,y_wid,1])\n",
    "frame1=plt.gca()\n",
    "spec_59732.select(freq_sel=[1315*u.MHz,1840*u.MHz]).plot_ds(new_fig=False)\n",
    "frame1.axes.get_yaxis().set_ticks([])\n",
    "plt.ylabel('')\n",
    "plt.title('MJD: 59732')\n",
    "y_st=y_st+y_wid+0.02\n",
    "\n",
    "y_wid=((spec_59827.mjd[-1]-spec_59827.mjd[0]).to(u.hr).value)*0.2/dur_299\n",
    "fig.add_axes([y_st,0.0,y_wid,1])\n",
    "frame1=plt.gca()\n",
    "spec_59827.select(freq_sel=[1315*u.MHz,1840*u.MHz]).plot_ds(new_fig=False)\n",
    "frame1.axes.get_yaxis().set_ticks([])\n",
    "plt.ylabel('')\n",
    "plt.title('MJD: 59827')\n",
    "y_st=y_st+y_wid+0.02\n",
    "\n",
    "y_wid=((spec_59919.mjd[-1]-spec_59919.mjd[0]).to(u.hr).value)*0.2/dur_299\n",
    "fig.add_axes([y_st,0.0,y_wid,1])\n",
    "frame1=plt.gca()\n",
    "spec_59919.select(freq_sel=[1315*u.MHz,1840*u.MHz]).plot_ds(new_fig=False)\n",
    "frame1.axes.get_yaxis().set_ticks([])\n",
    "plt.ylabel('')\n",
    "plt.title('MJD: 59919')\n",
    "plt.savefig('GBT_long_ds_v3.pdf', format='pdf',bbox_inches='tight',dpi=150)"
   ]
  },
  {
   "cell_type": "code",
   "execution_count": null,
   "id": "389e3d8d",
   "metadata": {},
   "outputs": [],
   "source": [
    "spec_59647.plot_ss(figsize=(6,2), tau_lim=[0.0,1.25])"
   ]
  },
  {
   "cell_type": "code",
   "execution_count": null,
   "id": "dfe5d77d",
   "metadata": {},
   "outputs": [],
   "source": [
    "fig=plt.figure(figsize=(7,7), dpi=150)\n",
    "di=0.29\n",
    "plot_gbt_dsss(spec_59299, ds=False, new_fig=False, fig=fig, ss_xst=0.0, fd_lim=[-0.9,0.9],\n",
    "             plot_full_ss=False)\n",
    "\n",
    "plot_gbt_dsss(spec_59403, ds=False, new_fig=False, fig=fig, ss_xst=di, fd_lim=[-0.9,0.9], put_ylabels=False,\n",
    "             plot_full_ss=False)\n",
    "\n",
    "plot_gbt_dsss(spec_59498, ds=False, new_fig=False, fig=fig, ss_xst=di*2, fd_lim=[-0.9,0.9], put_ylabels=False,\n",
    "             plot_full_ss=False)\n",
    "\n",
    "plot_gbt_dsss(spec_59574, ds=False, new_fig=False, fig=fig, ss_xst=di*3, fd_lim=[-1.3,1.3], put_ylabels=False,\n",
    "             plot_full_ss=False)\n",
    "\n",
    "plt.savefig('GBT_long_ss_v4_1.pdf', format='pdf',bbox_inches='tight',dpi=150)\n",
    "fig=plt.figure(figsize=(7,7), dpi=150)\n",
    "\n",
    "plot_gbt_dsss(spec_59647, ds=False, new_fig=False, fig=fig, ss_xst=di*4, fd_lim=[-0.7,0.7], put_ylabels=False,\n",
    "             plot_full_ss=False)\n",
    "\n",
    "plot_gbt_dsss(spec_59732, ds=False, new_fig=False, fig=fig, ss_xst=di*5, fd_lim=[-1.7,1.7], put_ylabels=False,\n",
    "             plot_full_ss=False)\n",
    "\n",
    "plot_gbt_dsss(spec_59827, ds=False, new_fig=False, fig=fig, ss_xst=di*6, fd_lim=[-0.32,0.32], put_ylabels=False,\n",
    "             plot_full_ss=False)\n",
    "\n",
    "plot_gbt_dsss(spec_59919, ds=False, new_fig=False, fig=fig, ss_xst=di*7, fd_lim=[-2.1,2.1], put_ylabels=False,\n",
    "             plot_full_ss=False)\n",
    "plt.savefig('GBT_long_ss_v4_2.pdf', format='pdf',bbox_inches='tight',dpi=150)"
   ]
  },
  {
   "cell_type": "markdown",
   "id": "9ce74a0c",
   "metadata": {},
   "source": [
    "# Do the fit"
   ]
  },
  {
   "cell_type": "code",
   "execution_count": null,
   "id": "b1c06084",
   "metadata": {
    "scrolled": true
   },
   "outputs": [],
   "source": [
    "res_324=gf.fit_new_gbt(spec_59324,ntime=1, nfreq=9, freq_start=1312*u.MHz, freq_step=59*u.MHz)"
   ]
  },
  {
   "cell_type": "code",
   "execution_count": null,
   "id": "90704c74",
   "metadata": {},
   "outputs": [],
   "source": [
    "1312+59*9"
   ]
  },
  {
   "cell_type": "code",
   "execution_count": null,
   "id": "a02f6aa3",
   "metadata": {
    "scrolled": true
   },
   "outputs": [],
   "source": [
    "res_574=gf.fit_new_gbt(spec_59574,ntime=4, nfreq=9, freq_start=1312*u.MHz, freq_step=59*u.MHz)"
   ]
  },
  {
   "cell_type": "code",
   "execution_count": null,
   "id": "e082dde0",
   "metadata": {
    "scrolled": true
   },
   "outputs": [],
   "source": [
    "res_647=gf.fit_new_gbt(spec_59647,ntime=3, nfreq=9, par_lims=[0.05,1],freq_start=1312*u.MHz, freq_step=59*u.MHz)\n",
    "with open('res_coh_%.2f_%s.pickle'%(np.mean(spec_59647.mjd.mjd),spec_59647.tel), 'wb') as e:\n",
    "    pickle.dump(res_647, e, pickle.HIGHEST_PROTOCOL)"
   ]
  },
  {
   "cell_type": "code",
   "execution_count": null,
   "id": "b58630ff",
   "metadata": {},
   "outputs": [],
   "source": [
    "res_647_eigv=gf.fit_new_gbt(spec_59647,ntime=3, nfreq=9, par_lims=[0.05,1],freq_start=1312*u.MHz,\n",
    "                            freq_step=59*u.MHz,thth_method='coherent', chi2_method='Eigen')\n",
    "with open('res_coh_Eigv_%.2f_%s.pickle'%(np.mean(spec_59647.mjd.mjd),spec_59647.tel), 'wb') as e:\n",
    "    pickle.dump(res_647_eigv, e, pickle.HIGHEST_PROTOCOL)"
   ]
  },
  {
   "cell_type": "code",
   "execution_count": null,
   "id": "a0dc2e85",
   "metadata": {
    "scrolled": true
   },
   "outputs": [],
   "source": [
    "res_647_inc=gf.fit_new_gbt(spec_59647,ntime=3, nfreq=9, par_lims=[0.05,1],freq_start=1312*u.MHz,\n",
    "                            freq_step=59*u.MHz,thth_method='incoherent')\n",
    "with open('res_inc_%.2f_%s.pickle'%(np.mean(spec_59647.mjd.mjd),spec_59647.tel), 'wb') as e:\n",
    "    pickle.dump(res_647_inc, e, pickle.HIGHEST_PROTOCOL)"
   ]
  },
  {
   "cell_type": "code",
   "execution_count": null,
   "id": "3c3fc382",
   "metadata": {
    "scrolled": true
   },
   "outputs": [],
   "source": [
    "res_673=gf.fit_new_gbt(spec_59673,ntime=1, nfreq=9,par_lims=[0.25,1.25],freq_start=1312*u.MHz, freq_step=59*u.MHz)\n",
    "with open('res_coh_%.2f_%s_2.pickle'%(np.mean(spec_59673.mjd.mjd),spec_59673.tel), 'wb') as e:\n",
    "    pickle.dump(res_673, e, pickle.HIGHEST_PROTOCOL)"
   ]
  },
  {
   "cell_type": "code",
   "execution_count": null,
   "id": "667d88f1",
   "metadata": {
    "scrolled": true
   },
   "outputs": [],
   "source": [
    "res_699=gf.fit_new_gbt(spec_59699,ntime=1, nfreq=9,par_lims=[0.75,1.75],freq_start=1312*u.MHz, freq_step=59*u.MHz)\n",
    "with open('res_coh_%.2f_%s.pickle'%(np.mean(spec_59699.mjd.mjd),spec_59699.tel), 'wb') as e:\n",
    "    pickle.dump(res_699, e, pickle.HIGHEST_PROTOCOL)"
   ]
  },
  {
   "cell_type": "code",
   "execution_count": null,
   "id": "efc499ff",
   "metadata": {},
   "outputs": [],
   "source": [
    "res_722=gf.fit_new_gbt(spec_59722,ntime=1,nfreq=9, par_lims=[1.0,2.0],freq_start=1312*u.MHz, freq_step=59*u.MHz)\n",
    "with open('res_coh_%.2f_%s.pickle'%(np.mean(spec_59722.mjd.mjd),spec_59722.tel), 'wb') as e:\n",
    "    pickle.dump(res_722, e, pickle.HIGHEST_PROTOCOL)"
   ]
  },
  {
   "cell_type": "code",
   "execution_count": null,
   "id": "50666385",
   "metadata": {
    "scrolled": true
   },
   "outputs": [],
   "source": [
    "res_732=gf.fit_new_gbt(spec_59732,ntime=5,nfreq=9, par_lims=[0.75,1.75],freq_start=1312*u.MHz, freq_step=59*u.MHz)\n",
    "with open('res_coh_%.2f_%s_nt5.pickle'%(np.mean(spec_59732.mjd.mjd),spec_59732.tel), 'wb') as e:\n",
    "    pickle.dump(res_732, e, pickle.HIGHEST_PROTOCOL)"
   ]
  },
  {
   "cell_type": "code",
   "execution_count": null,
   "id": "d4cceff0",
   "metadata": {
    "scrolled": true
   },
   "outputs": [],
   "source": [
    "res_747=gf.fit_new_gbt(spec_59747,ntime=1,nfreq=9, par_lims=[1.0,2.0],freq_start=1312*u.MHz, freq_step=59*u.MHz)\n",
    "with open('res_coh_%.2f_%s.pickle'%(np.mean(spec_59747.mjd.mjd),spec_59747.tel), 'wb') as e:\n",
    "    pickle.dump(res_747, e, pickle.HIGHEST_PROTOCOL)"
   ]
  },
  {
   "cell_type": "code",
   "execution_count": null,
   "id": "f3d2cbcc",
   "metadata": {
    "scrolled": true
   },
   "outputs": [],
   "source": [
    "res_770=gf.fit_new_gbt(spec_59770,ntime=1,nfreq=9, par_lims=[0.75,1.75],freq_start=1312*u.MHz, freq_step=59*u.MHz)\n",
    "with open('res_coh_%.2f_%s.pickle'%(np.mean(spec_59770.mjd.mjd),spec_59770.tel), 'wb') as e:\n",
    "    pickle.dump(res_770, e, pickle.HIGHEST_PROTOCOL)"
   ]
  },
  {
   "cell_type": "code",
   "execution_count": null,
   "id": "c31dd6d0",
   "metadata": {},
   "outputs": [],
   "source": [
    "res_827=gf.fit_new_gbt(spec_59827,ntime=1,nfreq=9, par_lims=[0.1,0.6],freq_start=1312*u.MHz, freq_step=59*u.MHz)\n",
    "with open('res_coh_%.2f_%s_nt1.pickle'%(np.mean(spec_59827.mjd.mjd),spec_59827.tel), 'wb') as e:\n",
    "    pickle.dump(res_827, e, pickle.HIGHEST_PROTOCOL)"
   ]
  },
  {
   "cell_type": "code",
   "execution_count": null,
   "id": "07915ba8",
   "metadata": {},
   "outputs": [],
   "source": [
    "res_855=gf.fit_new_gbt(spec_59855,ntime=1,nfreq=9, par_lims=[0.4,1.4],freq_start=1312*u.MHz, freq_step=59*u.MHz)\n",
    "with open('res_coh_%.2f_%s.pickle'%(np.mean(spec_59855.mjd.mjd),spec_59855.tel), 'wb') as e:\n",
    "    pickle.dump(res_855, e, pickle.HIGHEST_PROTOCOL)"
   ]
  },
  {
   "cell_type": "code",
   "execution_count": null,
   "id": "5a9d3a95",
   "metadata": {},
   "outputs": [],
   "source": [
    "res_886=gf.fit_new_gbt(spec_59886,ntime=2,nfreq=9, par_lims=[0.75,2.25],freq_start=1312*u.MHz, freq_step=59*u.MHz)\n",
    "with open('res_coh_%.2f_%s_nt2.pickle'%(np.mean(spec_59886.mjd.mjd),spec_59886.tel), 'wb') as e:\n",
    "    pickle.dump(res_886, e, pickle.HIGHEST_PROTOCOL)"
   ]
  },
  {
   "cell_type": "code",
   "execution_count": null,
   "id": "3e38f5ce",
   "metadata": {},
   "outputs": [],
   "source": [
    "res_915=gf.fit_new_gbt(spec_59915,ntime=2,nfreq=9, par_lims=[1.28,2.4],freq_start=1312*u.MHz, freq_step=59*u.MHz,\n",
    "                      edge=2.0)\n",
    "with open('res_coh_%.2f_%s_nt2.pickle'%(np.mean(spec_59915.mjd.mjd),spec_59915.tel), 'wb') as e:\n",
    "    pickle.dump(res_915, e, pickle.HIGHEST_PROTOCOL)"
   ]
  },
  {
   "cell_type": "code",
   "execution_count": null,
   "id": "58916e27",
   "metadata": {
    "scrolled": true
   },
   "outputs": [],
   "source": [
    "res_919=gf.fit_new_gbt(spec_59919,ntime=4,nfreq=9, par_lims=[1.2,2.8],freq_start=1312*u.MHz, freq_step=59*u.MHz)\n",
    "with open('res_coh_%.2f_%s_nt4.pickle'%(np.mean(spec_59919.mjd.mjd),spec_59919.tel), 'wb') as e:\n",
    "    pickle.dump(res_919, e, pickle.HIGHEST_PROTOCOL)"
   ]
  },
  {
   "cell_type": "code",
   "execution_count": null,
   "id": "fdce87db",
   "metadata": {},
   "outputs": [],
   "source": [
    "res_919=gf.fit_new_gbt(spec_59919,ntime=6,nfreq=9, par_lims=[1.2,2.8],freq_start=1312*u.MHz, freq_step=59*u.MHz)\n",
    "with open('res_coh_%.2f_%s_nt6.pickle'%(np.mean(spec_59919.mjd.mjd),spec_59919.tel), 'wb') as e:\n",
    "    pickle.dump(res_919, e, pickle.HIGHEST_PROTOCOL)"
   ]
  },
  {
   "cell_type": "code",
   "execution_count": null,
   "id": "93d87427",
   "metadata": {},
   "outputs": [],
   "source": [
    "res_919=gf.fit_new_gbt(spec_59919,ntime=5,nfreq=9, par_lims=[1.2,2.8],freq_start=1312*u.MHz, freq_step=59*u.MHz,\n",
    "                      edge=2.0)\n",
    "with open('res_coh_%.2f_%s_nt5.pickle'%(np.mean(spec_59919.mjd.mjd),spec_59919.tel), 'wb') as e:\n",
    "    pickle.dump(res_919, e, pickle.HIGHEST_PROTOCOL)"
   ]
  },
  {
   "cell_type": "code",
   "execution_count": null,
   "id": "653a5ea0",
   "metadata": {},
   "outputs": [],
   "source": [
    "#os.system('mv fit_overview_mjd59919* dir_59919_nt5/.')"
   ]
  },
  {
   "cell_type": "code",
   "execution_count": null,
   "id": "786dca8d",
   "metadata": {},
   "outputs": [],
   "source": [
    "res_919=gf.fit_new_gbt(spec_59919,ntime=7,nfreq=9, par_lims=[1.2,2.8],freq_start=1312*u.MHz, freq_step=59*u.MHz,\n",
    "                      edge=2.0)\n",
    "with open('res_coh_%.2f_%s_nt7.pickle'%(np.mean(spec_59919.mjd.mjd),spec_59919.tel), 'wb') as e:\n",
    "    pickle.dump(res_919, e, pickle.HIGHEST_PROTOCOL)"
   ]
  },
  {
   "cell_type": "code",
   "execution_count": null,
   "id": "7535c17c",
   "metadata": {},
   "outputs": [],
   "source": [
    "#os.system('mv fit_overview_mjd59919* dir_59919_nt7/.')"
   ]
  },
  {
   "cell_type": "code",
   "execution_count": null,
   "id": "de06c54d",
   "metadata": {},
   "outputs": [],
   "source": [
    "res_919=gf.fit_new_gbt(spec_59919,ntime=8,nfreq=9, par_lims=[1.2,2.7],freq_start=1312*u.MHz, freq_step=59*u.MHz)\n",
    "with open('res_coh_%.2f_%s_nt8.pickle'%(np.mean(spec_59919.mjd.mjd),spec_59919.tel), 'wb') as e:\n",
    "    pickle.dump(res_919, e, pickle.HIGHEST_PROTOCOL)"
   ]
  },
  {
   "cell_type": "code",
   "execution_count": null,
   "id": "75eceb06",
   "metadata": {},
   "outputs": [],
   "source": [
    "res_919=gf.fit_new_gbt(spec_59919,ntime=9,nfreq=9, par_lims=[1.2,2.7],freq_start=1312*u.MHz, freq_step=59*u.MHz,\n",
    "                      edge=2.0)\n",
    "with open('res_coh_%.2f_%s_nt9.pickle'%(np.mean(spec_59919.mjd.mjd),spec_59919.tel), 'wb') as e:\n",
    "    pickle.dump(res_919, e, pickle.HIGHEST_PROTOCOL)"
   ]
  },
  {
   "cell_type": "code",
   "execution_count": null,
   "id": "e5070e07",
   "metadata": {},
   "outputs": [],
   "source": [
    "#os.system('mv fit_overview_mjd59919* dir_59919_nt9/.')"
   ]
  },
  {
   "cell_type": "code",
   "execution_count": null,
   "id": "c94b8cc4",
   "metadata": {},
   "outputs": [],
   "source": [
    "res_919=gf.fit_new_gbt(spec_59919,ntime=11,nfreq=9, par_lims=[1.2,2.7],freq_start=1312*u.MHz, freq_step=59*u.MHz,\n",
    "                      edge=2.0)\n",
    "with open('res_coh_%.2f_%s_nt11.pickle'%(np.mean(spec_59919.mjd.mjd),spec_59919.tel), 'wb') as e:\n",
    "    pickle.dump(res_919, e, pickle.HIGHEST_PROTOCOL)"
   ]
  },
  {
   "cell_type": "code",
   "execution_count": null,
   "id": "7069955a",
   "metadata": {},
   "outputs": [],
   "source": [
    "#os.system('mv fit_overview_mjd59919* dir_59919_nt11/.')"
   ]
  },
  {
   "cell_type": "code",
   "execution_count": null,
   "id": "9d1a42c4",
   "metadata": {},
   "outputs": [],
   "source": [
    "res_574=gf.fit_new_gbt(spec_59574,ntime=5, nfreq=18, par_lims=[0.5,1.5],freq_start=1312*u.MHz, freq_step=29*u.MHz,\n",
    "                      figaux='_fs29_nt5')\n",
    "with open('try_res_coh_%.2f_%s.pickle'%(np.mean(spec_59574.mjd.mjd),spec_59574.tel), 'wb') as e:\n",
    "    pickle.dump(res_574, e, pickle.HIGHEST_PROTOCOL)"
   ]
  },
  {
   "cell_type": "code",
   "execution_count": null,
   "id": "98871bce",
   "metadata": {},
   "outputs": [],
   "source": [
    "res_299=gf.fit_new_gbt(spec_59299,ntime=4, nfreq=18, par_lims=[0.5,2],freq_start=1312*u.MHz,\n",
    "                       freq_step=29*u.MHz, figaux='_fs29')\n",
    "with open('try_res_coh_%.2f_%s.pickle'%(np.mean(spec_59299.mjd.mjd),spec_59299.tel), 'wb') as e:\n",
    "    pickle.dump(res_299, e, pickle.HIGHEST_PROTOCOL)"
   ]
  },
  {
   "cell_type": "code",
   "execution_count": null,
   "id": "999930cb",
   "metadata": {
    "scrolled": true
   },
   "outputs": [],
   "source": [
    "res_574=gf.fit_new_gbt(spec_59574,ntime=4, nfreq=18, par_lims=[0.5,1.5],freq_start=1312*u.MHz, freq_step=29*u.MHz)\n",
    "with open('try_res_coh_%.2f_%s.pickle'%(np.mean(spec_59574.mjd.mjd),spec_59574.tel), 'wb', figaux='_fs29') as e:\n",
    "    pickle.dump(res_574, e, pickle.HIGHEST_PROTOCOL)"
   ]
  },
  {
   "cell_type": "code",
   "execution_count": null,
   "id": "f6317117",
   "metadata": {
    "scrolled": true
   },
   "outputs": [],
   "source": [
    "res_574=gf.fit_new_gbt(spec_59574,ntime=4, nfreq=9, par_lims=[0.5,1.5],freq_start=1312*u.MHz, freq_step=59*u.MHz,\n",
    "                      thth_method='coherent', chi2_method='Eigen', plot_thth=True)\n",
    "with open('try_res_coh_Eigv%.2f_%s.pickle'%(np.mean(spec_59574.mjd.mjd),spec_59574.tel), 'wb') as e:\n",
    "    pickle.dump(res_574, e, pickle.HIGHEST_PROTOCOL)"
   ]
  },
  {
   "cell_type": "code",
   "execution_count": null,
   "id": "5acc8e3f",
   "metadata": {},
   "outputs": [],
   "source": [
    "res_574=gf.fit_new_gbt(spec_59574,ntime=4, nfreq=9, par_lims=[0.5,1.5],freq_start=1312*u.MHz, freq_step=59*u.MHz,\n",
    "                      thth_method='incoherent', plot_thth=True, mean0=False)\n",
    "with open('try_res_inc_%.2f_%s_mean0False.pickle'%(np.mean(spec_59574.mjd.mjd),spec_59574.tel), 'wb') as e:\n",
    "    pickle.dump(res_574, e, pickle.HIGHEST_PROTOCOL)"
   ]
  },
  {
   "cell_type": "code",
   "execution_count": null,
   "id": "203509ee",
   "metadata": {
    "scrolled": true
   },
   "outputs": [],
   "source": [
    "res_574=gf.fit_new_gbt(spec_59574,ntime=3, nfreq=4, par_lims=[0.5,1.5],freq_start=1312*u.MHz, freq_step=133*u.MHz,\n",
    "                      thth_method='incoherent', plot_thth=True)\n",
    "with open('try_res_inc_%.2f_%s.pickle'%(np.mean(spec_59574.mjd.mjd),spec_59574.tel), 'wb') as e:\n",
    "    pickle.dump(res_574, e, pickle.HIGHEST_PROTOCOL)"
   ]
  },
  {
   "cell_type": "code",
   "execution_count": null,
   "id": "0a71d336",
   "metadata": {
    "scrolled": true
   },
   "outputs": [],
   "source": [
    "res_574=gf.fit_new_gbt(spec_59574,ntime=4, nfreq=2, par_lims=[0.5,1.5],freq_start=1312*u.MHz, freq_step=266*u.MHz,\n",
    "                      thth_method='incoherent', plot_thth=True, mean0=True, figaux='_mean0T')"
   ]
  },
  {
   "cell_type": "code",
   "execution_count": null,
   "id": "05d5b414",
   "metadata": {},
   "outputs": [],
   "source": [
    "res_722=gf.fit_new_gbt(spec_59722,ntime=1,nfreq=9, par_lims=[1.0,2.0],freq_start=1312*u.MHz, freq_step=59*u.MHz)\n",
    "with open('res_coh_%.2f_%s.pickle'%(np.mean(spec_59722.mjd.mjd),spec_59722.tel), 'wb') as e:\n",
    "    pickle.dump(res_722, e, pickle.HIGHEST_PROTOCOL)"
   ]
  },
  {
   "cell_type": "code",
   "execution_count": null,
   "id": "c0ac6b77",
   "metadata": {},
   "outputs": [],
   "source": [
    "most_specs=[spec_59299,spec_59324,spec_59363,spec_59399,spec_59403,\n",
    "           spec_59496,spec_59498,spec_59518,spec_59545,spec_59574]\n",
    "\n",
    "ntimes=[4,1,1,1,4,1,4,1,1,4]"
   ]
  },
  {
   "cell_type": "code",
   "execution_count": null,
   "id": "be4fe1c9",
   "metadata": {
    "scrolled": true
   },
   "outputs": [],
   "source": [
    "for i in range(0,len(most_specs)):\n",
    "    this_sp=most_specs[i]\n",
    "    this_res=gf.fit_new_gbt(this_sp,ntime=ntimes[i], nfreq=9, freq_start=1312*u.MHz, freq_step=59*u.MHz)\n",
    "    with open('res_coh_%.2f_%s.pickle'%(np.mean(this_sp.mjd.mjd),this_sp.tel), 'wb') as e:\n",
    "        pickle.dump(this_res, e, pickle.HIGHEST_PROTOCOL)"
   ]
  },
  {
   "cell_type": "code",
   "execution_count": null,
   "id": "f7813e9a",
   "metadata": {},
   "outputs": [],
   "source": [
    "for i in range(0,len(most_specs)):\n",
    "    this_sp=most_specs[i]\n",
    "    this_res=gf.fit_new_gbt(this_sp,ntime=ntimes[i], nfreq=9, freq_start=1312*u.MHz, freq_step=59*u.MHz,\n",
    "                           thth_method='incoherent')\n",
    "    with open('res_inc_%.2f_%s.pickle'%(np.mean(this_sp.mjd.mjd),this_sp.tel), 'wb') as e:\n",
    "        pickle.dump(this_res, e, pickle.HIGHEST_PROTOCOL)"
   ]
  },
  {
   "cell_type": "code",
   "execution_count": null,
   "id": "8de1457f",
   "metadata": {},
   "outputs": [],
   "source": [
    "for i in range(0,len(most_specs)):\n",
    "    this_sp=most_specs[i]\n",
    "    this_res=gf.fit_new_gbt(this_sp,ntime=ntimes[i], nfreq=9, freq_start=1312*u.MHz, freq_step=59*u.MHz,\n",
    "                           thth_method='coherent', chi2_method='Eigen')\n",
    "    with open('res_coh_Eigv_%.2f_%s.pickle'%(np.mean(this_sp.mjd.mjd),this_sp.tel), 'wb') as e:\n",
    "        pickle.dump(this_res, e, pickle.HIGHEST_PROTOCOL)"
   ]
  },
  {
   "cell_type": "markdown",
   "id": "a54421c6",
   "metadata": {},
   "source": [
    "# Save results"
   ]
  },
  {
   "cell_type": "code",
   "execution_count": null,
   "id": "3e735d38",
   "metadata": {},
   "outputs": [],
   "source": [
    "#with open('res_coh_%.2f_%s.pickle'%(np.mean(spec_59574.mjd.mjd),spec_59574.tel), 'wb') as e:\n",
    "#    pickle.dump(res_574, e, pickle.HIGHEST_PROTOCOL)"
   ]
  },
  {
   "cell_type": "markdown",
   "id": "129813fb",
   "metadata": {},
   "source": [
    "# Load pickles"
   ]
  },
  {
   "cell_type": "code",
   "execution_count": null,
   "id": "b6e44aeb",
   "metadata": {
    "scrolled": true
   },
   "outputs": [],
   "source": [
    "list_pickles = sorted(glob('res_coh_59*.pickle'))\n",
    "list_pickles"
   ]
  },
  {
   "cell_type": "code",
   "execution_count": null,
   "id": "37e58bb0",
   "metadata": {},
   "outputs": [],
   "source": [
    "res_this = pickle.load(open( 'res_coh_59732.65_GBT_nt5.pickle', 'rb'))\n",
    "res_this"
   ]
  },
  {
   "cell_type": "code",
   "execution_count": null,
   "id": "552aa8d1",
   "metadata": {
    "scrolled": true
   },
   "outputs": [],
   "source": [
    "colors=['b', 'r', 'k', 'g', 'grey', 'cyan', 'm', 'y', 'dodgerblue', 'orange', 'lime']\n",
    "for i in range(0,len(list_pickles)):\n",
    "    plt.figure(figsize=(4,2))\n",
    "    res_this = pickle.load(open( list_pickles[i], 'rb'))\n",
    "    for k in range(0, len(res_this['times'])):\n",
    "        print(res_this['times'][k])\n",
    "        plt.plot(res_this['freqs'],res_this['dveffs'][k], marker='o', color=colors[k])\n",
    "        plt.axhline(np.mean(res_this['dveffs'][k]), color=colors[k], ls=':')\n",
    "    plt.ylim(0.0,3.5)\n",
    "    plt.title(list_pickles[i])\n",
    "    plt.show()\n",
    "    \n"
   ]
  },
  {
   "cell_type": "code",
   "execution_count": null,
   "id": "deb4d02e",
   "metadata": {},
   "outputs": [],
   "source": [
    "res_this"
   ]
  },
  {
   "cell_type": "markdown",
   "id": "872663ce",
   "metadata": {},
   "source": [
    "# Examine results"
   ]
  },
  {
   "cell_type": "code",
   "execution_count": null,
   "id": "45719d92",
   "metadata": {},
   "outputs": [],
   "source": [
    "def plot_veff_freq(dic, plt_lim=None, plt_legend=True):\n",
    "    colors=['k', 'r', 'b', 'c']\n",
    "    for i in range(0,len(dic['times'])):\n",
    "        new_mask=np.array(res_this['masks'][i,:], dtype=bool)\n",
    "        plt.errorbar(dic['freqs'][new_mask],dic['dveffs'][i,:][new_mask], yerr=dic['dveff_e'][i,:][new_mask],\n",
    "                     ls='none',marker='o',label='%.2f'%dic['times'][i], color=colors[i], alpha=0.75, ms=4)\n",
    "        plt.axhline(np.mean(dic['dveffs'][i,:][new_mask]), ls=':', color=colors[i])\n",
    "    if plt_legend is True:\n",
    "        plt.legend(loc='upper left', fontsize=6)\n",
    "    if plt_lim is not None:\n",
    "        plt.ylim(plt_lim[0],plt_lim[1])\n",
    "    plt.xlim(1300,1850)\n",
    "    plt.ylabel(r'scaled $v_{eff}$ ($\\frac{km/s}{\\sqrt{pc}}$)')\n",
    "    plt.xlabel('Frequency (MHz)')\n",
    "    #plt.show()\n",
    "\n",
    "     \n",
    "def plot_chi2s(dic):\n",
    "    for i in range(0,np.shape(dic['dveff_chi2'])[0]):\n",
    "        for k in range(0,np.shape(dic['dveff_chi2'])[1]):\n",
    "            plt.plot(dic['dveff_ar'][i,k,:],dic['dveff_chi2'][i,k,:], ls=':', lw=1,\n",
    "                     label='%.2f'%dic['freqs'][k])\n",
    "        plt.plot(dic['dveff_ar'][i,k,:],np.mean(dic['dveff_chi2'][i,:,:], axis=0), color='k', ls='-', lw=2,\n",
    "                     label='mean')\n",
    "        plt.title(dic['times'][i])\n",
    "        plt.legend(loc=(1.01,0.2))\n",
    "        plt.show()\n",
    "\n",
    "        "
   ]
  },
  {
   "cell_type": "code",
   "execution_count": null,
   "id": "baf7c387",
   "metadata": {},
   "outputs": [],
   "source": [
    "list_pickles"
   ]
  },
  {
   "cell_type": "code",
   "execution_count": null,
   "id": "e82c8d0f",
   "metadata": {},
   "outputs": [],
   "source": [
    " 'res_coh_59827.41_GBT_nt5.pickle'"
   ]
  },
  {
   "cell_type": "code",
   "execution_count": null,
   "id": "27cfb7f2",
   "metadata": {},
   "outputs": [],
   "source": [
    "fig=plt.figure(figsize=(10,1.5), dpi=150)\n",
    "plt_lims=np.array([[0.5,1.9],[0.3,1.7],[0.9,2.3],[0.6,2.0],[0.3,1.7],[0.9,2.3],[0.5,1.9],[1.0,2.4],[1.0,2.4],\n",
    "                  [0.5,1.9],[0.0,1.4]])\n",
    "for i in range(0,len(list_pickles)):\n",
    "    res_this = pickle.load(open(list_pickles[i], 'rb'))\n",
    "    rect=[0.225*(i%4), -1.5*(i//4), 0.15, 1]\n",
    "    fig.add_axes(rect)\n",
    "    frame1=plt.gca()\n",
    "    plot_veff_freq(res_this, plt_lim=[0.2,2.75], plt_legend=True)\n",
    "plt.savefig('GBT_all_veffs_v2.pdf', format='pdf',bbox_inches='tight',dpi=150)\n",
    "plt.show()"
   ]
  },
  {
   "cell_type": "code",
   "execution_count": null,
   "id": "7e54db66",
   "metadata": {},
   "outputs": [],
   "source": [
    "plt_lims[9,:]"
   ]
  },
  {
   "cell_type": "code",
   "execution_count": null,
   "id": "37e9d0c1",
   "metadata": {},
   "outputs": [],
   "source": [
    "plt_lim=[plt_lims[9,0],plt_lims[9,1]]\n",
    "plt_lim"
   ]
  },
  {
   "cell_type": "code",
   "execution_count": null,
   "id": "b7813b18",
   "metadata": {},
   "outputs": [],
   "source": []
  }
 ],
 "metadata": {
  "kernelspec": {
   "display_name": "Python 3 (ipykernel)",
   "language": "python",
   "name": "python3"
  },
  "language_info": {
   "codemirror_mode": {
    "name": "ipython",
    "version": 3
   },
   "file_extension": ".py",
   "mimetype": "text/x-python",
   "name": "python",
   "nbconvert_exporter": "python",
   "pygments_lexer": "ipython3",
   "version": "3.10.14"
  }
 },
 "nbformat": 4,
 "nbformat_minor": 5
}
