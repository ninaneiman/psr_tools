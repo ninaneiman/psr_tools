{
 "cells": [
  {
   "cell_type": "code",
   "execution_count": 1,
   "id": "12e60228",
   "metadata": {},
   "outputs": [],
   "source": [
    "%load_ext autoreload\n",
    "%autoreload 2\n",
    "%matplotlib inline"
   ]
  },
  {
   "cell_type": "code",
   "execution_count": 2,
   "id": "bf6c0cd1",
   "metadata": {},
   "outputs": [],
   "source": [
    "import warnings\n",
    "warnings.filterwarnings(\"ignore\")"
   ]
  },
  {
   "cell_type": "code",
   "execution_count": 4,
   "id": "7b668d5d",
   "metadata": {},
   "outputs": [
    {
     "data": {
      "text/plain": [
       "<Figure size 450x1200 with 0 Axes>"
      ]
     },
     "metadata": {},
     "output_type": "display_data"
    }
   ],
   "source": [
    "from glob import glob\n",
    "import os, math, time\n",
    "import sys\n",
    "sys.path.insert(1, '/home/gusinskaia/psr_tools')\n",
    "\n",
    "import numpy as np\n",
    "import pickle\n",
    "\n",
    "import astropy\n",
    "from astropy import units as u, constants as const\n",
    "from astropy.time import Time\n",
    "from astropy.visualization import quantity_support\n",
    "\n",
    "import matplotlib.pyplot as plt\n",
    "from matplotlib.colors import LogNorm\n",
    "import matplotlib as mpl\n",
    "\n",
    "from scipy.sparse.linalg import eigsh\n",
    "from scipy.optimize import curve_fit\n",
    "import scipy.linalg\n",
    "\n",
    "import load_data as ld\n",
    "import ds_psr as dsa\n",
    "import fit_thth as fth\n",
    "import models_thth as mth\n",
    "import wsrt_fits as wf\n",
    "import gbt_fits as gf\n",
    "import ththmod as THTH\n",
    "\n",
    "plt.rcParams['figure.dpi'] = 150"
   ]
  },
  {
   "cell_type": "markdown",
   "id": "21915e02",
   "metadata": {},
   "source": [
    "# All the data:"
   ]
  },
  {
   "cell_type": "code",
   "execution_count": 6,
   "id": "6677817e",
   "metadata": {},
   "outputs": [
    {
     "name": "stdout",
     "output_type": "stream",
     "text": [
      "['59297', '59299', '59324', '59363', '59399', '59403', '59426', '59434', '59464', '59496', '59498', '59518', '59545', '59574', '59647']\n",
      "/mnt/scratch-lustre/gusinskaia/triple_system/2021_GBT_dss/\n"
     ]
    }
   ],
   "source": [
    "gbt_dir='/mnt/scratch-lustre/gusinskaia/triple_system/2021_GBT_dss/'\n",
    "names=sorted(glob(gbt_dir+'*'))\n",
    "\n",
    "\n",
    "actual_names=[x.split('/')[-1] for x in names]\n",
    "mjds=[x.split('_')[0] for x in actual_names]\n",
    "path_name=names[0].split(actual_names[0])[0]\n",
    "\n",
    "print (mjds)\n",
    "print (path_name)"
   ]
  },
  {
   "cell_type": "code",
   "execution_count": null,
   "id": "cf650592",
   "metadata": {},
   "outputs": [],
   "source": []
  },
  {
   "cell_type": "code",
   "execution_count": null,
   "id": "a9b2254a",
   "metadata": {},
   "outputs": [],
   "source": [
    "spec_59297=gf.load_new_gbt(59297)#too short\n",
    "spec_59299=gf.load_new_gbt(59299)\n",
    "spec_59324=gf.load_new_gbt(59324)\n",
    "spec_59363=gf.load_new_gbt(59363)\n",
    "spec_59399=gf.load_new_gbt(59399)\n",
    "spec_59403=gf.load_new_gbt(59403)\n",
    "spec_59426=gf.load_new_gbt(59426)#too short\n",
    "spec_59434=gf.load_new_gbt(59434)#too short\n",
    "spec_59464=gf.load_new_gbt(59464)#too short\n",
    "spec_59496=gf.load_new_gbt(59496)\n",
    "spec_59498=gf.load_new_gbt(59498)\n",
    "spec_59518=gf.load_new_gbt(59518)\n",
    "spec_59545=gf.load_new_gbt(59545)\n",
    "spec_59574=gf.load_new_gbt(59574)\n",
    "spec_59647=gf.load_new_gbt(59647)"
   ]
  },
  {
   "cell_type": "code",
   "execution_count": null,
   "id": "5a52bfd2",
   "metadata": {},
   "outputs": [],
   "source": [
    "all_specs=[spec_59297,spec_59299,spec_59324,spec_59363,spec_59399,spec_59403,spec_59426,spec_59434,spec_59464,\n",
    "           spec_59496,spec_59498,spec_59518,spec_59545,spec_59574]\n",
    "most_specs=[spec_59299,spec_59324,spec_59363,spec_59399,spec_59403,\n",
    "           spec_59496,spec_59498,spec_59518,spec_59545,spec_59574]"
   ]
  },
  {
   "cell_type": "code",
   "execution_count": null,
   "id": "3833811d",
   "metadata": {},
   "outputs": [],
   "source": [
    "def plot_one_ss(spec, fig, rect, tclr='k'):\n",
    "    fig.add_axes(rect)\n",
    "    frame1=plt.gca()\n",
    "    spec.plot_ss(new_fig=False, tau_lim=[0.0,1.25], vmin=1e3,vmax=5e6, cb=False)\n",
    "    plt.title(spec.mjd.iso[int(len(spec.mjd.mjd)/2)][:10], color=tclr)"
   ]
  },
  {
   "cell_type": "code",
   "execution_count": null,
   "id": "fbd307d4",
   "metadata": {},
   "outputs": [],
   "source": [
    "fig=plt.figure(figsize=(10,1.7), dpi=150)\n",
    "for i in range(0,len(all_specs)):\n",
    "    plot_one_ss(all_specs[i], fig, rect=[0.225*(i%7), -1.5*(i//7), 0.15, 1])\n",
    "plt.show()"
   ]
  },
  {
   "cell_type": "code",
   "execution_count": null,
   "id": "2c6bade8",
   "metadata": {},
   "outputs": [],
   "source": [
    "fig=plt.figure(figsize=(10,1.7), dpi=150)\n",
    "for i in range(0,len(most_specs)):\n",
    "    plot_one_ss(most_specs[i], fig, rect=[0.225*(i%5), -1.5*(i//5), 0.15, 1])\n",
    "plt.show()"
   ]
  },
  {
   "cell_type": "code",
   "execution_count": null,
   "id": "32116863",
   "metadata": {},
   "outputs": [],
   "source": [
    "def plot_gbt_dsss(spec, save_it=False):\n",
    "    fig=plt.figure(figsize=(7,7), dpi=150)\n",
    "    fig.add_axes([0.0,0.0,0.2,1])\n",
    "    frame1=plt.gca()\n",
    "    spec.select(freq_sel=[1315*u.MHz,1840*u.MHz]).plot_ds(new_fig=False)\n",
    "    plt.title('DS')\n",
    "    fig.add_axes([0.3,0.75,0.25,0.25])\n",
    "    frame1=plt.gca()\n",
    "    spec.plot_ss(new_fig=False,tau_lim=[0.0,1.22])\n",
    "    plt.title('full SS')\n",
    "    fig.add_axes([0.3,0.0,0.25,0.25])\n",
    "    frame1=plt.gca()\n",
    "    spec.select(freq_sel=[1315*u.MHz,1540*u.MHz]).plot_ss(new_fig=False,tau_lim=[0.0,1.22])\n",
    "    plt.title('Bottom band SS')\n",
    "    fig.add_axes([0.3,0.375,0.25,0.25])\n",
    "    frame1=plt.gca()\n",
    "    spec.select(freq_sel=[1540*u.MHz,1840*u.MHz]).plot_ss(new_fig=False,tau_lim=[0.0,1.22])\n",
    "    plt.title('Top band SS')\n",
    "    if save_it is True:\n",
    "        mjd_name=int(np.mean(spec.mjd.mjd))\n",
    "        plt.savefig('GBT_%s_ds_ss.png'%mjd_name, format='png',bbox_inches='tight',dpi=150)"
   ]
  },
  {
   "cell_type": "code",
   "execution_count": null,
   "id": "6d222793",
   "metadata": {
    "scrolled": true
   },
   "outputs": [],
   "source": [
    "plot_gbt_dsss(spec_59574)"
   ]
  },
  {
   "cell_type": "code",
   "execution_count": null,
   "id": "8b9a27ac",
   "metadata": {
    "scrolled": false
   },
   "outputs": [],
   "source": [
    "plot_gbt_dsss(sp_59647)"
   ]
  },
  {
   "cell_type": "code",
   "execution_count": null,
   "id": "66f0b162",
   "metadata": {
    "scrolled": true
   },
   "outputs": [],
   "source": [
    "fig=plt.figure(figsize=(7,7), dpi=150)\n",
    "fig.add_axes([0.0,0.0,0.2,1])\n",
    "frame1=plt.gca()\n",
    "spec_59299.select(freq_sel=[1315*u.MHz,1840*u.MHz]).plot_ds(new_fig=False)\n",
    "plt.title('MJD: 59299')\n",
    "fig.add_axes([0.225,0.0,0.2,1])\n",
    "frame1=plt.gca()\n",
    "spec_59403.select(freq_sel=[1315*u.MHz,1840*u.MHz]).plot_ds(new_fig=False)\n",
    "frame1.axes.get_yaxis().set_ticks([])\n",
    "plt.ylabel('')\n",
    "plt.title('MJD: 59403')\n",
    "\n",
    "fig.add_axes([0.45,0.0,0.2,1])\n",
    "frame1=plt.gca()\n",
    "spec_59498.select(freq_sel=[1315*u.MHz,1840*u.MHz]).plot_ds(new_fig=False)\n",
    "frame1.axes.get_yaxis().set_ticks([])\n",
    "plt.ylabel('')\n",
    "plt.title('MJD: 59498')\n",
    "\n",
    "fig.add_axes([0.675,0.0,0.2,1])\n",
    "frame1=plt.gca()\n",
    "spec_59574.select(freq_sel=[1315*u.MHz,1840*u.MHz]).plot_ds(new_fig=False)\n",
    "frame1.axes.get_yaxis().set_ticks([])\n",
    "plt.ylabel('')\n",
    "plt.title('MJD: 59575')\n",
    "#plt.savefig('GBT_all_ds.pdf', format='pdf',bbox_inches='tight',dpi=150)"
   ]
  },
  {
   "cell_type": "code",
   "execution_count": null,
   "id": "cdc4b8e0",
   "metadata": {
    "scrolled": true
   },
   "outputs": [],
   "source": [
    "for i in range(0,9):\n",
    "    sel_spec=spec_59363.select(freq_sel=[1312*u.MHz+(59*i)*u.MHz, 1312*u.MHz+(59*(i+1))*u.MHz])\n",
    "    sel_spec.plot_ds(figsize=(2,2))"
   ]
  },
  {
   "cell_type": "markdown",
   "id": "9ce74a0c",
   "metadata": {},
   "source": [
    "# Do the fit"
   ]
  },
  {
   "cell_type": "code",
   "execution_count": null,
   "id": "b1c06084",
   "metadata": {
    "scrolled": true
   },
   "outputs": [],
   "source": [
    "res_324=gf.fit_new_gbt(spec_59324,ntime=1, nfreq=9, freq_start=1312*u.MHz, freq_step=59*u.MHz)"
   ]
  },
  {
   "cell_type": "code",
   "execution_count": null,
   "id": "a02f6aa3",
   "metadata": {
    "scrolled": true
   },
   "outputs": [],
   "source": [
    "res_574=gf.fit_new_gbt(spec_59574,ntime=4, nfreq=9, freq_start=1312*u.MHz, freq_step=59*u.MHz)"
   ]
  },
  {
   "cell_type": "code",
   "execution_count": null,
   "id": "425b97d4",
   "metadata": {},
   "outputs": [],
   "source": [
    "sp_59647=spec_59647.shrink([2,1])\n",
    "sp_59647.I.shape"
   ]
  },
  {
   "cell_type": "code",
   "execution_count": null,
   "id": "e082dde0",
   "metadata": {
    "scrolled": true
   },
   "outputs": [],
   "source": [
    "res_647=gf.fit_new_gbt(sp_59647,ntime=2, nfreq=9, par_lims=[0.05,1],freq_start=1312*u.MHz, freq_step=59*u.MHz)\n",
    "with open('res_coh_%.2f_%s.pickle'%(np.mean(sp_59647.mjd.mjd),sp_59647.tel), 'wb') as e:\n",
    "    pickle.dump(res_647, e, pickle.HIGHEST_PROTOCOL)"
   ]
  },
  {
   "cell_type": "code",
   "execution_count": null,
   "id": "cc27008a",
   "metadata": {},
   "outputs": [],
   "source": [
    "res_647=gf.fit_new_gbt(sp_59647,ntime=3, nfreq=10, par_lims=[0.05,1],freq_start=1312*u.MHz, freq_step=53*u.MHz)\n",
    "with open('res_coh_%.2f_%s_3t_53f.pickle'%(np.mean(sp_59647.mjd.mjd),sp_59647.tel), 'wb') as e:\n",
    "    pickle.dump(res_647, e, pickle.HIGHEST_PROTOCOL)"
   ]
  },
  {
   "cell_type": "code",
   "execution_count": null,
   "id": "c0ac6b77",
   "metadata": {},
   "outputs": [],
   "source": [
    "most_specs=[spec_59299,spec_59324,spec_59363,spec_59399,spec_59403,\n",
    "           spec_59496,spec_59498,spec_59518,spec_59545,spec_59574]\n",
    "\n",
    "ntimes=[4,1,1,1,4,1,4,1,1,4]"
   ]
  },
  {
   "cell_type": "code",
   "execution_count": null,
   "id": "be4fe1c9",
   "metadata": {
    "scrolled": true
   },
   "outputs": [],
   "source": [
    "for i in range(0,len(most_specs)):\n",
    "    this_sp=most_specs[i]\n",
    "    this_res=gf.fit_new_gbt(this_sp,ntime=ntimes[i], nfreq=9, freq_start=1312*u.MHz, freq_step=59*u.MHz)\n",
    "    with open('res_coh_%.2f_%s.pickle'%(np.mean(this_sp.mjd.mjd),this_sp.tel), 'wb') as e:\n",
    "        pickle.dump(this_res, e, pickle.HIGHEST_PROTOCOL)"
   ]
  },
  {
   "cell_type": "code",
   "execution_count": null,
   "id": "f7813e9a",
   "metadata": {},
   "outputs": [],
   "source": [
    "for i in range(0,len(most_specs)):\n",
    "    this_sp=most_specs[i]\n",
    "    this_res=gf.fit_new_gbt(this_sp,ntime=ntimes[i], nfreq=9, freq_start=1312*u.MHz, freq_step=59*u.MHz,\n",
    "                           thth_method='incoherent')\n",
    "    with open('res_inc_%.2f_%s.pickle'%(np.mean(this_sp.mjd.mjd),this_sp.tel), 'wb') as e:\n",
    "        pickle.dump(this_res, e, pickle.HIGHEST_PROTOCOL)"
   ]
  },
  {
   "cell_type": "code",
   "execution_count": null,
   "id": "8de1457f",
   "metadata": {},
   "outputs": [],
   "source": [
    "for i in range(0,len(most_specs)):\n",
    "    this_sp=most_specs[i]\n",
    "    this_res=gf.fit_new_gbt(this_sp,ntime=ntimes[i], nfreq=9, freq_start=1312*u.MHz, freq_step=59*u.MHz,\n",
    "                           thth_method='coherent', chi2_method='Eigen')\n",
    "    with open('res_coh_Eigv_%.2f_%s.pickle'%(np.mean(this_sp.mjd.mjd),this_sp.tel), 'wb') as e:\n",
    "        pickle.dump(this_res, e, pickle.HIGHEST_PROTOCOL)"
   ]
  },
  {
   "cell_type": "markdown",
   "id": "a54421c6",
   "metadata": {},
   "source": [
    "# Save results"
   ]
  },
  {
   "cell_type": "code",
   "execution_count": null,
   "id": "3e735d38",
   "metadata": {},
   "outputs": [],
   "source": [
    "with open('res_coh_%.2f_%s.pickle'%(np.mean(spec_59574.mjd.mjd),spec_59574.tel), 'wb') as e:\n",
    "    pickle.dump(res_574, e, pickle.HIGHEST_PROTOCOL)"
   ]
  },
  {
   "cell_type": "code",
   "execution_count": null,
   "id": "b6e44aeb",
   "metadata": {},
   "outputs": [],
   "source": [
    "list_pickles=sorted(glob('*GBT*.pickle'))\n",
    "list_pickles"
   ]
  },
  {
   "cell_type": "code",
   "execution_count": null,
   "id": "d25658bc",
   "metadata": {},
   "outputs": [],
   "source": [
    "res_this=pickle.load(open(list_pickles[0], 'rb'))"
   ]
  },
  {
   "cell_type": "markdown",
   "id": "872663ce",
   "metadata": {},
   "source": [
    "# Examine results"
   ]
  },
  {
   "cell_type": "code",
   "execution_count": null,
   "id": "45719d92",
   "metadata": {},
   "outputs": [],
   "source": [
    "def plot_veff_freq(dic):\n",
    "    for i in range(0,len(dic['times'])):\n",
    "        plt.errorbar(dic['freqs'],dic['dveffs'][i,:], yerr=dic['dveff_e'][i,:],ls='none',marker='o',\n",
    "                     label='%.2f'%dic['times'][i])\n",
    "\n",
    "    plt.legend()\n",
    "    #plt.show()\n",
    "\n",
    "     \n",
    "def plot_chi2s(dic):\n",
    "    for i in range(0,np.shape(dic['dveff_chi2'])[0]):\n",
    "        for k in range(0,np.shape(dic['dveff_chi2'])[1]):\n",
    "            plt.plot(dic['dveff_ar'][i,k,:],dic['dveff_chi2'][i,k,:], ls=':', lw=1,\n",
    "                     label='%.2f'%dic['freqs'][k])\n",
    "        plt.plot(dic['dveff_ar'][i,k,:],np.mean(dic['dveff_chi2'][i,:,:], axis=0), color='k', ls='-', lw=2,\n",
    "                     label='mean')\n",
    "        plt.title(dic['times'][i])\n",
    "        plt.legend(loc=(1.01,0.2))\n",
    "        plt.show()\n",
    "\n",
    "        \n",
    "def extract_mean_dveff(dic):\n",
    "    "
   ]
  },
  {
   "cell_type": "code",
   "execution_count": null,
   "id": "4dead91d",
   "metadata": {},
   "outputs": [],
   "source": [
    "plot_veff_freq(res_this)\n",
    "plt.ylim(0.8,1.3)"
   ]
  },
  {
   "cell_type": "code",
   "execution_count": null,
   "id": "22056b06",
   "metadata": {},
   "outputs": [],
   "source": [
    "plot_veff_freq(res_324)"
   ]
  },
  {
   "cell_type": "code",
   "execution_count": null,
   "id": "51c820fd",
   "metadata": {},
   "outputs": [],
   "source": [
    "plot_chi2s(res_324)"
   ]
  },
  {
   "cell_type": "code",
   "execution_count": null,
   "id": "81964333",
   "metadata": {},
   "outputs": [],
   "source": []
  }
 ],
 "metadata": {
  "kernelspec": {
   "display_name": "Python 3 (ipykernel)",
   "language": "python",
   "name": "python3"
  },
  "language_info": {
   "codemirror_mode": {
    "name": "ipython",
    "version": 3
   },
   "file_extension": ".py",
   "mimetype": "text/x-python",
   "name": "python",
   "nbconvert_exporter": "python",
   "pygments_lexer": "ipython3",
   "version": "3.9.7"
  }
 },
 "nbformat": 4,
 "nbformat_minor": 5
}
