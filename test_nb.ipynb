{
 "cells": [
  {
   "cell_type": "code",
   "execution_count": null,
   "metadata": {},
   "outputs": [],
   "source": [
    "%load_ext autoreload\n",
    "%autoreload\n",
    "%matplotlib inline"
   ]
  },
  {
   "cell_type": "code",
   "execution_count": null,
   "metadata": {
    "collapsed": true
   },
   "outputs": [],
   "source": [
    "import sys\n",
    "sys.path.insert(1, '/home/gusinskaia/scintools/scintools')\n",
    "import ththmod as THTH"
   ]
  },
  {
   "cell_type": "code",
   "execution_count": null,
   "metadata": {},
   "outputs": [],
   "source": [
    "import baseband\n",
    "from baseband import guppi\n",
    "import astropy.units as u\n",
    "import numpy as np\n",
    "import matplotlib.pyplot as plt\n",
    "from pathlib import Path\n",
    "import pulsarbat as pb\n",
    "from glob import glob\n",
    "import os, sys, math, time\n",
    "\n",
    "from astropy.time import Time\n",
    "from astropy import units as u\n",
    "from astropy.visualization import quantity_support\n",
    "\n",
    "from astropy import constants as const\n",
    "\n",
    "import numpy as np\n",
    "import astropy\n",
    "from matplotlib.colors import LogNorm\n",
    "\n",
    "import matplotlib as mpl\n",
    "from scipy.sparse.linalg import eigsh\n",
    "from scipy.optimize import curve_fit\n",
    "import scipy.linalg\n",
    "\n",
    "import load_data as ld\n",
    "import ds_psr as dsa\n",
    "import fit_thth as fth\n",
    "import models_thth as mth\n",
    "\n",
    "\n",
    "plt.rcParams['figure.dpi'] = 50\n",
    "print (baseband.__version__)\n",
    "print (pb.__version__)\n",
    "print (astropy.__version__)\n",
    "\n",
    "\n",
    "import concurrent.futures\n",
    "import datetime\n"
   ]
  },
  {
   "cell_type": "code",
   "execution_count": null,
   "metadata": {
    "collapsed": true
   },
   "outputs": [],
   "source": [
    "trdir='/mnt/scratch-lustre/gusinskaia/triple_system/'\n",
    "odir=trdir+'dss_mean/'\n",
    "fitdir=trdir+'for_fit/'\n",
    "npydir=trdir+'npys_vels/'\n",
    "imdir=trdir+'fitted_figures/'\n",
    "vlbidir=trdir+'dss_realvlba/'\n",
    "longdir=trdir+'dss_long/'\n",
    "onetotwo_dir=trdir+'dss_1to2/'\n",
    "twotofour_dir=trdir+'dss_2to4/'\n",
    "armdir=trdir+'one_armed_arc/'\n",
    "nsdir=trdir+'dss_wsrt_wnoise/'\n",
    "\n",
    "spec_pieces=np.array([[1301,1317],[1321,1337],[1341,1357],[1361,1377],[1381,1397],\n",
    "                      [1401,1417],[1421,1437],[1441,1457]])"
   ]
  },
  {
   "cell_type": "code",
   "execution_count": null,
   "metadata": {},
   "outputs": [],
   "source": [
    "ao_data=dsa.load_triple_spectrum('/mnt/scratch-lustre/gusinskaia/triple_system/dss_realvlba/5602579_AO_1400real_vlbi_ds.npz',\n",
    "                      wnoise=False)"
   ]
  },
  {
   "cell_type": "code",
   "execution_count": null,
   "metadata": {
    "collapsed": true
   },
   "outputs": [],
   "source": []
  },
  {
   "cell_type": "code",
   "execution_count": null,
   "metadata": {
    "collapsed": true,
    "scrolled": true
   },
   "outputs": [],
   "source": [
    "list_2to4=sorted(glob(nsdir+'*.npz'))\n",
    "#list_2to4"
   ]
  },
  {
   "cell_type": "code",
   "execution_count": null,
   "metadata": {},
   "outputs": [],
   "source": [
    "sp=dsa.load_triple_spectrum(list_2to4[4], factor=[16,1], wnoise=True, mean0=True)\n",
    "print (np.shape(sp.I), np.shape(sp.nI))\n",
    "\n",
    "i=6\n",
    "spec_sel2=sp.select(time_sel=[sp.stend[0]*u.d,sp.stend[1]*u.d],\n",
    "                                            freq_sel=[spec_pieces[i,0]*u.MHz,spec_pieces[i,1]*u.MHz])\n",
    "\n",
    "spec_sel2.ss=spec_sel2.make_ss(pad_it=True, npad=3)\n",
    "\n",
    "\n",
    "fig=plt.figure(figsize=(3,5), dpi=150)\n",
    "fig.add_axes([0.0,0.0,0.25,1])\n",
    "plt.gca()\n",
    "sp.plot_ds(new_fig=False)\n",
    "plt.colorbar()\n",
    "fig.add_axes([0.75,0.0,0.25,1])\n",
    "plt.gca()\n",
    "sp.plot_nds(new_fig=False)\n",
    "plt.colorbar()"
   ]
  },
  {
   "cell_type": "code",
   "execution_count": null,
   "metadata": {},
   "outputs": [],
   "source": [
    "this_spec=dsa.load_triple_spectrum(list_2to4[4], factor=[1,1], wnoise=True)\n",
    "i=6\n",
    "spec_sel=this_spec.select(time_sel=[this_spec.stend[0]*u.d,this_spec.stend[1]*u.d],\n",
    "                                            freq_sel=[spec_pieces[i,0]*u.MHz,spec_pieces[i,1]*u.MHz])\n",
    "\n",
    "spec_sel.ss=spec_sel.make_ss(pad_it=True, npad=3)"
   ]
  },
  {
   "cell_type": "code",
   "execution_count": null,
   "metadata": {},
   "outputs": [],
   "source": [
    "spec_sel.plot_ds(figsize=(2,2))"
   ]
  },
  {
   "cell_type": "code",
   "execution_count": null,
   "metadata": {},
   "outputs": [],
   "source": [
    "spec_sel.plot_ss()"
   ]
  },
  {
   "cell_type": "code",
   "execution_count": null,
   "metadata": {},
   "outputs": [],
   "source": [
    "#try thth_redplot\n",
    "fitdic, fit_freq, fit_time, res_dic=fth.daniel_pars_fit(spec_sel, curv_par='dveff', etas_pars=[0.5,11.5,0.25],\n",
    "                                                       d_eff=0.325*u.kpc)"
   ]
  },
  {
   "cell_type": "code",
   "execution_count": null,
   "metadata": {},
   "outputs": [],
   "source": [
    "print (fitdic['dveff'], fitdic['mueff'], fitdic['eta'])"
   ]
  },
  {
   "cell_type": "code",
   "execution_count": null,
   "metadata": {},
   "outputs": [],
   "source": [
    "fitdic_nored, fit_freq, fit_time, res_dic_nored=fth.daniel_pars_fit(spec_sel, curv_par='dveff', d_eff=0.325*u.kpc,\n",
    "                                                                    etas_pars=[0.5,11.5,0.1],reduced=False)"
   ]
  },
  {
   "cell_type": "code",
   "execution_count": null,
   "metadata": {},
   "outputs": [],
   "source": [
    "print (fitdic_nored['dveff'], fitdic_nored['mueff'], fitdic_nored['eta'])"
   ]
  },
  {
   "cell_type": "code",
   "execution_count": null,
   "metadata": {},
   "outputs": [],
   "source": [
    "plt.figure(figsize=(5,3), dpi=150)\n",
    "plt.plot(res_dic_nored['par_array'],res_dic_nored['chi2']/spec_sel.I.size, label='chi2/n')\n",
    "plt.plot(res_dic['par_array'],res_dic['chi2'], label='chi2/ndof')\n",
    "\n",
    "plt.legend()"
   ]
  },
  {
   "cell_type": "code",
   "execution_count": null,
   "metadata": {
    "collapsed": true
   },
   "outputs": [],
   "source": [
    "model_E, model_ds, model_ss, model_field, chi2 = mth.get_models(spec_sel, fitdic_nored['eta'],\n",
    "                                                                edge=1.4,ntau=512)\n",
    "model_nored=mth.ModelSpec(eta=fitdic['eta'], mI=model_ds, mIs=model_ss, mE=model_E, mEs=model_field,\n",
    "                         spec=spec_sel)\n",
    "model_E, model_ds, model_ss, model_field, chi2 = mth.get_models(spec_sel, fitdic['eta'],\n",
    "                                                                edge=1.4,ntau=512)\n",
    "model_spec=mth.ModelSpec(eta=fitdic['eta'], mI=model_ds, mIs=model_ss, mE=model_E, mEs=model_field,\n",
    "                         spec=spec_sel)"
   ]
  },
  {
   "cell_type": "code",
   "execution_count": null,
   "metadata": {},
   "outputs": [],
   "source": [
    "fig=plt.figure(figsize=(5,2), dpi=150)\n",
    "fig.add_axes([0.0,0.0,0.25,1])\n",
    "plt.gca()\n",
    "spec_sel2.plot_ds(new_fig=False)\n",
    "fig.add_axes([0.5,0.0,0.25,1])\n",
    "plt.gca()\n",
    "model_spec.plot_mds(new_fig=False)\n",
    "fig.add_axes([1.0,0.0,0.25,1])\n",
    "plt.gca()\n",
    "model_nored.plot_mds(new_fig=False)"
   ]
  },
  {
   "cell_type": "code",
   "execution_count": null,
   "metadata": {},
   "outputs": [],
   "source": [
    "plt.plot(res_dic['ntheta_red'])"
   ]
  },
  {
   "cell_type": "markdown",
   "metadata": {},
   "source": [
    "# Worse observation:"
   ]
  },
  {
   "cell_type": "code",
   "execution_count": null,
   "metadata": {},
   "outputs": [],
   "source": [
    "sp=dsa.load_triple_spectrum(list_2to4[1], factor=[16,1], wnoise=True, mean0=True)\n",
    "print (np.shape(sp.I), np.shape(sp.nI))\n",
    "\n",
    "i=6\n",
    "spec_sel2=sp.select(time_sel=[sp.stend[0]*u.d,sp.stend[1]*u.d],\n",
    "                                            freq_sel=[spec_pieces[i,0]*u.MHz,spec_pieces[i,1]*u.MHz])\n",
    "\n",
    "spec_sel2.ss=spec_sel2.make_ss(pad_it=True, npad=3)\n",
    "\n",
    "\n",
    "\n",
    "fig=plt.figure(figsize=(3,5), dpi=150)\n",
    "fig.add_axes([0.0,0.0,0.25,1])\n",
    "plt.gca()\n",
    "sp.plot_ds(new_fig=False)\n",
    "plt.colorbar()\n",
    "fig.add_axes([0.5,0.0,0.25,1])\n",
    "plt.gca()\n",
    "sp.plot_nds(new_fig=False)\n",
    "plt.colorbar()"
   ]
  },
  {
   "cell_type": "code",
   "execution_count": null,
   "metadata": {},
   "outputs": [],
   "source": [
    "this_spec=dsa.load_triple_spectrum(list_2to4[1], factor=[1,1], wnoise=True)\n",
    "i=6\n",
    "spec_sel=this_spec.select(time_sel=[this_spec.stend[0]*u.d,this_spec.stend[1]*u.d],\n",
    "                                            freq_sel=[spec_pieces[i,0]*u.MHz,spec_pieces[i,1]*u.MHz])\n",
    "spec_sel.ss=spec_sel.make_ss(pad_it=True, npad=3)"
   ]
  },
  {
   "cell_type": "code",
   "execution_count": null,
   "metadata": {},
   "outputs": [],
   "source": [
    "#try thth_redplot\n",
    "fitdic, fit_freq, fit_time, res_dic=fth.daniel_pars_fit(spec_sel, curv_par='dveff', etas_pars=[0.5,11.5,0.25],\n",
    "                                                       d_eff=0.325*u.kpc)\n",
    "print (fitdic['dveff'], fitdic['mueff'], fitdic['eta'])"
   ]
  },
  {
   "cell_type": "code",
   "execution_count": null,
   "metadata": {},
   "outputs": [],
   "source": [
    "fitdic_nored, fit_freq, fit_time, res_dic_nored=fth.daniel_pars_fit(spec_sel, curv_par='dveff', d_eff=0.325*u.kpc,\n",
    "                                                                    etas_pars=[0.5,11.5,0.1],reduced=False)\n",
    "print (fitdic_nored['dveff'], fitdic_nored['mueff'], fitdic_nored['eta'])"
   ]
  },
  {
   "cell_type": "code",
   "execution_count": null,
   "metadata": {},
   "outputs": [],
   "source": [
    "plt.figure(figsize=(5,3), dpi=150)\n",
    "plt.plot(res_dic_nored['par_array'],res_dic_nored['chi2']/spec_sel.I.size, label='chi2/n')\n",
    "plt.plot(res_dic['par_array'],res_dic['chi2'], label='chi2/ndof')\n",
    "\n",
    "plt.legend()"
   ]
  },
  {
   "cell_type": "code",
   "execution_count": null,
   "metadata": {},
   "outputs": [],
   "source": [
    "model_E, model_ds, model_ss, model_field, chi2 = mth.get_models(spec_sel, fitdic_nored['eta'],\n",
    "                                                                edge=1.4,ntau=512)\n",
    "model_nored=mth.ModelSpec(eta=fitdic['eta'], mI=model_ds, mIs=model_ss, mE=model_E, mEs=model_field,\n",
    "                         spec=spec_sel)\n",
    "model_E, model_ds, model_ss, model_field, chi2 = mth.get_models(spec_sel, fitdic['eta'],\n",
    "                                                                edge=1.4,ntau=512)\n",
    "model_spec=mth.ModelSpec(eta=fitdic['eta'], mI=model_ds, mIs=model_ss, mE=model_E, mEs=model_field,\n",
    "                         spec=spec_sel)\n",
    "\n",
    "fig=plt.figure(figsize=(5,2), dpi=150)\n",
    "fig.add_axes([0.0,0.0,0.25,1])\n",
    "plt.gca()\n",
    "spec_sel2.plot_ds(new_fig=False)\n",
    "fig.add_axes([0.5,0.0,0.25,1])\n",
    "plt.gca()\n",
    "model_spec.plot_mds(new_fig=False)\n",
    "plt.title('eta=%.2f'% fitdic['eta'].value)\n",
    "fig.add_axes([1.0,0.0,0.25,1])\n",
    "plt.gca()\n",
    "model_nored.plot_mds(new_fig=False)\n",
    "plt.title('eta=%.2f'% fitdic_nored['eta'].value)"
   ]
  },
  {
   "cell_type": "markdown",
   "metadata": {},
   "source": [
    "# Different window"
   ]
  },
  {
   "cell_type": "code",
   "execution_count": null,
   "metadata": {},
   "outputs": [],
   "source": [
    "this_spec=dsa.load_triple_spectrum(list_2to4[1], factor=[1,1], wnoise=True)\n",
    "i=0\n",
    "spec_sel=this_spec.select(time_sel=[this_spec.stend[0]*u.d,this_spec.stend[1]*u.d],\n",
    "                                            freq_sel=[spec_pieces[i,0]*u.MHz,spec_pieces[i,1]*u.MHz])\n",
    "spec_sel.ss=spec_sel.make_ss(pad_it=True, npad=3)"
   ]
  },
  {
   "cell_type": "code",
   "execution_count": null,
   "metadata": {},
   "outputs": [],
   "source": [
    "#try thth_redplot\n",
    "fitdic, fit_freq, fit_time, res_dic=fth.daniel_pars_fit(spec_sel, curv_par='dveff', etas_pars=[0.5,11.5,0.25],\n",
    "                                                       d_eff=0.325*u.kpc)\n",
    "print (fitdic['dveff'], fitdic['mueff'], fitdic['eta'])"
   ]
  },
  {
   "cell_type": "code",
   "execution_count": null,
   "metadata": {},
   "outputs": [],
   "source": [
    "fitdic_nored, fit_freq, fit_time, res_dic_nored=fth.daniel_pars_fit(spec_sel, curv_par='dveff', d_eff=0.325*u.kpc,\n",
    "                                                                    etas_pars=[0.5,11.5,0.1],reduced=False)\n",
    "print (fitdic_nored['dveff'], fitdic_nored['mueff'], fitdic_nored['eta'])"
   ]
  },
  {
   "cell_type": "code",
   "execution_count": null,
   "metadata": {},
   "outputs": [],
   "source": [
    "plt.figure(figsize=(5,3), dpi=150)\n",
    "plt.plot(res_dic_nored['par_array'],res_dic_nored['chi2']/spec_sel.I.size, label='chi2/n')\n",
    "plt.plot(res_dic['par_array'],res_dic['chi2'], label='chi2/ndof')\n",
    "\n",
    "plt.legend()"
   ]
  },
  {
   "cell_type": "code",
   "execution_count": null,
   "metadata": {},
   "outputs": [],
   "source": [
    "sp=dsa.load_triple_spectrum(list_2to4[1], factor=[16,1], wnoise=True, mean0=True)\n",
    "i=0\n",
    "spec_sel2=sp.select(time_sel=[sp.stend[0]*u.d,sp.stend[1]*u.d],\n",
    "                                            freq_sel=[spec_pieces[i,0]*u.MHz,spec_pieces[i,1]*u.MHz])\n",
    "spec_sel2.ss=spec_sel2.make_ss(pad_it=True, npad=3)\n",
    "\n",
    "model_E, model_ds, model_ss, model_field, chi2 = mth.get_models(spec_sel, fitdic_nored['eta'],\n",
    "                                                                edge=1.4,ntau=512)\n",
    "model_nored=mth.ModelSpec(eta=fitdic['eta'], mI=model_ds, mIs=model_ss, mE=model_E, mEs=model_field,\n",
    "                         spec=spec_sel)\n",
    "model_E, model_ds, model_ss, model_field, chi2 = mth.get_models(spec_sel, fitdic['eta'],\n",
    "                                                                edge=1.4,ntau=512)\n",
    "model_spec=mth.ModelSpec(eta=fitdic['eta'], mI=model_ds, mIs=model_ss, mE=model_E, mEs=model_field,\n",
    "                         spec=spec_sel)\n",
    "\n",
    "fig=plt.figure(figsize=(5,2), dpi=150)\n",
    "fig.add_axes([0.0,0.0,0.25,1])\n",
    "plt.gca()\n",
    "spec_sel2.plot_ds(new_fig=False)\n",
    "plt.colorbar()\n",
    "fig.add_axes([0.5,0.0,0.25,1])\n",
    "plt.gca()\n",
    "model_spec.plot_mds(new_fig=False)\n",
    "plt.title('eta=%.2f'% fitdic['eta'].value)\n",
    "plt.colorbar()\n",
    "fig.add_axes([1.0,0.0,0.25,1])\n",
    "plt.gca()\n",
    "model_nored.plot_mds(new_fig=False)\n",
    "plt.title('eta=%.2f'% fitdic_nored['eta'].value)"
   ]
  },
  {
   "cell_type": "code",
   "execution_count": null,
   "metadata": {
    "collapsed": true
   },
   "outputs": [],
   "source": []
  },
  {
   "cell_type": "code",
   "execution_count": null,
   "metadata": {},
   "outputs": [],
   "source": [
    "plt.figure(figsize=(5,3), dpi=150)\n",
    "dic=res_dic\n",
    "plt.plot(dic['par_array'],dic['chi2'])\n",
    "\n",
    "fitted_range=((dic['par_array']>(dic['par_fit']-dic['par_sig']))&(dic['par_array']<(dic['par_fit']+dic['par_sig'])))\n",
    "\n",
    "plt.plot(dic['par_array'][fitted_range],dic['chi2'][fitted_range])\n",
    "\n",
    "print ('eta:', fitdic['eta'], 'mueff:', fitdic['mueff'], 'dveff:',  fitdic['dveff'])\n",
    "print ('eta_err:', fitdic['eta_err'], 'mueff:', fitdic['mueff_err'], 'dveff_err:',  fitdic['dveff_err'])"
   ]
  },
  {
   "cell_type": "code",
   "execution_count": null,
   "metadata": {},
   "outputs": [],
   "source": [
    "fitdic_nored, fit_freq, fit_time, res_dic_nored=fth.daniel_pars_fit(spec_sel, curv_par='dveff',\n",
    "                                                                    etas_pars=[0.25,5.5,0.1],reduced=False)"
   ]
  },
  {
   "cell_type": "code",
   "execution_count": null,
   "metadata": {},
   "outputs": [],
   "source": [
    "spec_sel.f.ptp()"
   ]
  },
  {
   "cell_type": "code",
   "execution_count": null,
   "metadata": {},
   "outputs": [],
   "source": [
    "fitdic_nored['dveff']"
   ]
  },
  {
   "cell_type": "code",
   "execution_count": null,
   "metadata": {},
   "outputs": [],
   "source": [
    "fitdic_nored['mueff']"
   ]
  },
  {
   "cell_type": "code",
   "execution_count": null,
   "metadata": {},
   "outputs": [],
   "source": [
    "fitdic_nored['eta']"
   ]
  },
  {
   "cell_type": "code",
   "execution_count": null,
   "metadata": {},
   "outputs": [],
   "source": [
    "plt.figure(figsize=(5,3), dpi=150)\n",
    "dic=res_dic_nored\n",
    "fdic=fitdic_nored\n",
    "plt.plot(dic['par_array'],dic['chi2']/spec_sel.I.size)\n",
    "\n",
    "fitted_range=((dic['par_array']>(dic['par_fit']-dic['par_sig']))&(dic['par_array']<(dic['par_fit']+dic['par_sig'])))\n",
    "\n",
    "plt.plot(dic['par_array'][fitted_range],dic['chi2'][fitted_range]/spec_sel.I.size)\n",
    "\n",
    "print ('eta:', fdic['eta'], 'mueff:', fdic['mueff'], 'dveff:',  fdic['dveff'])\n",
    "print ('eta_err:', fdic['eta_err'], 'mueff:', fdic['mueff_err'], 'dveff_err:',  fdic['dveff_err'])"
   ]
  },
  {
   "cell_type": "code",
   "execution_count": null,
   "metadata": {},
   "outputs": [],
   "source": [
    "plt.figure(figsize=(5,3), dpi=150)\n",
    "dic=res_dic_nored\n",
    "plt.plot(res_dic_nored['par_array'],res_dic_nored['chi2']/spec_sel.I.size, label='no dof')\n",
    "\n",
    "plt.plot(res_dic['par_array'],res_dic['chi2'], label='red')\n",
    "\n",
    "plt.legend()\n"
   ]
  },
  {
   "cell_type": "code",
   "execution_count": null,
   "metadata": {},
   "outputs": [],
   "source": [
    "fitted_range=((dic['par_array']>(dic['par_fit']-dic['par_sig']))&(dic['par_array']<(dic['par_fit']+dic['par_sig'])))\n",
    "\n",
    "plt.plot(dic['par_array'][fitted_range],dic['chi2'][fitted_range]/spec_sel.I.size)\n",
    "\n",
    "print ('eta:', fitdic['eta'], 'mueff:', fitdic['mueff'], 'dveff:',  fitdic['dveff'])\n",
    "print ('eta_err:', fitdic['eta_err'], 'mueff:', fitdic['mueff_err'], 'dveff_err:',  fitdic['dveff_err'])"
   ]
  },
  {
   "cell_type": "code",
   "execution_count": null,
   "metadata": {},
   "outputs": [],
   "source": [
    "plt.figure(figsize=(5,3), dpi=150)\n",
    "plt.plot(res_dic['par_array'],res_dic['thth_reds0'])"
   ]
  },
  {
   "cell_type": "code",
   "execution_count": null,
   "metadata": {},
   "outputs": [],
   "source": [
    "spec_sel.I.size-res_dic['thth_reds0'][0]*2"
   ]
  },
  {
   "cell_type": "code",
   "execution_count": null,
   "metadata": {},
   "outputs": [],
   "source": [
    "fitdic['dveff']"
   ]
  },
  {
   "cell_type": "code",
   "execution_count": null,
   "metadata": {
    "collapsed": true
   },
   "outputs": [],
   "source": [
    "model_E, model_ds, model_ss, model_field, chi2 = mth.get_models(spec_sel, fitdic['eta'],\n",
    "                                                                edge=1.4,ntau=512)\n",
    "\n",
    "model_spec=mth.ModelSpec(eta=fitdic['eta'], mI=model_ds, mIs=model_ss, mE=model_E, mEs=model_field,\n",
    "                         spec=spec_sel)"
   ]
  },
  {
   "cell_type": "code",
   "execution_count": null,
   "metadata": {},
   "outputs": [],
   "source": [
    "spec_sel2.plot_ds(figsize=(3,3))"
   ]
  },
  {
   "cell_type": "code",
   "execution_count": null,
   "metadata": {},
   "outputs": [],
   "source": [
    "model_spec.plot_mds()"
   ]
  },
  {
   "cell_type": "code",
   "execution_count": null,
   "metadata": {},
   "outputs": [],
   "source": [
    "spec_sel.I.shape[0]*spec_sel.I.shape[1]"
   ]
  },
  {
   "cell_type": "code",
   "execution_count": null,
   "metadata": {},
   "outputs": [],
   "source": [
    "this_spec=dsa.load_triple_spectrum(list_2to4[4], factor=[16,1], wnoise=True)\n",
    "i=6\n",
    "spec_sel2=this_spec.select(time_sel=[this_spec.stend[0]*u.d,this_spec.stend[1]*u.d],\n",
    "                                            freq_sel=[spec_pieces[i,0]*u.MHz,spec_pieces[i,1]*u.MHz])\n",
    "\n",
    "spec_sel2.ss=spec_sel2.make_ss(pad_it=True, npad=3)"
   ]
  },
  {
   "cell_type": "code",
   "execution_count": null,
   "metadata": {},
   "outputs": [],
   "source": [
    "spec_sel.I.size"
   ]
  },
  {
   "cell_type": "code",
   "execution_count": null,
   "metadata": {
    "collapsed": true
   },
   "outputs": [],
   "source": [
    "fitdic, fit_freq, fit_time, res_dic=fth.daniel_pars_fit(spec_sel, curv_par='dveff', etas_pars=[0.25,5.5,0.25])"
   ]
  },
  {
   "cell_type": "code",
   "execution_count": null,
   "metadata": {},
   "outputs": [],
   "source": [
    "spec_sel.I.sum()/spec_sel.I.size"
   ]
  },
  {
   "cell_type": "code",
   "execution_count": null,
   "metadata": {},
   "outputs": [],
   "source": [
    "spec_sel.I.mean()"
   ]
  },
  {
   "cell_type": "markdown",
   "metadata": {
    "collapsed": true
   },
   "source": [
    "# Fit multiple windows"
   ]
  },
  {
   "cell_type": "code",
   "execution_count": null,
   "metadata": {
    "collapsed": true
   },
   "outputs": [],
   "source": []
  },
  {
   "cell_type": "code",
   "execution_count": null,
   "metadata": {
    "collapsed": true
   },
   "outputs": [],
   "source": [
    "def get_curv_fits_wsrt(name, figsize=(5,7.5), spec_pieces='Default', etas_pars=[0.25,7.5,0.25], method='chi2',\n",
    "                      pc7=False, load_model=False, eta_ref=None, ref_freq=None, edge=1.4, save_models=False,\n",
    "                      who='Daniel', d_eff=1300*u.pc):\n",
    "    if spec_pieces=='Default':\n",
    "        if pc7 is True:\n",
    "            spec_pieces=np.array([[1312,1328],[1332,1348],[1352,1368],[1372,1388],[1392,1408],\n",
    "                      [1412,1428],[1432,1448]])\n",
    "        else:\n",
    "            spec_pieces=np.array([[1301,1317],[1321,1337],[1341,1357],[1361,1377],[1381,1397],\n",
    "                      [1401,1417],[1421,1437],[1441,1457]])\n",
    "    else:\n",
    "        spec_pieces=spec_pieces\n",
    "    shr_spec=load_triple_spectrum(name, factor=[16,1])\n",
    "    this_spec=load_triple_spectrum(name, factor=[1,1])\n",
    "    \n",
    "    my_specs=[]\n",
    "    shr_specs=[]\n",
    "    if (shr_spec.stend[1]-shr_spec.stend[0])>3.2/24.:\n",
    "        break_mjd=(shr_spec.stend[1]+shr_spec.stend[0])/2\n",
    "        st_spec=this_spec.select(time_sel=[this_spec.stend[0]*u.d,break_mjd*u.d])\n",
    "        end_spec=this_spec.select(time_sel=[break_mjd*u.d,this_spec.stend[1]*u.d])\n",
    "        my_specs.append(st_spec)\n",
    "        my_specs.append(end_spec)\n",
    "        \n",
    "        st_spec_shr=shr_spec.select(time_sel=[shr_spec.stend[0]*u.d,break_mjd*u.d])\n",
    "        end_spec_shr=shr_spec.select(time_sel=[break_mjd*u.d,shr_spec.stend[1]*u.d])\n",
    "        shr_specs.append(st_spec_shr)\n",
    "        shr_specs.append(end_spec_shr)\n",
    "    else:\n",
    "        my_specs.append(this_spec)\n",
    "        shr_specs.append(shr_spec)\n",
    "    \n",
    "    etas, etas_err, etas_f, etas_t, dics_etas, all_models, delays=[],[],[],[],[],[],[]\n",
    "    f = open(\"etas_results_fit_%.2f_%s.txt\"%(this_spec.stend[0],who), \"a\")\n",
    "    if load_model is False:\n",
    "        h = open(\"delay_results_fit_%.2f_%s.txt\"%(this_spec.stend[0],who), \"a\")\n",
    "    else:\n",
    "        h = open(\"delay_results_model_%.2f.txt\"%this_spec.stend[0], \"a\")\n",
    "    j=0\n",
    "    for my_spec in my_specs:\n",
    "        fig=plt.figure(figsize=figsize, dpi= 70, facecolor='w', edgecolor='k')\n",
    "        fig.add_axes([0.0,0.0,0.25,1.0])\n",
    "        plt.gca()\n",
    "        shr_specs[j].plot_ds(new_fig=False)\n",
    "        for i in range(0,spec_pieces.shape[0]):\n",
    "            spec_sel=my_spec.select(time_sel=[my_spec.stend[0]*u.d,my_spec.stend[1]*u.d],\n",
    "                                            freq_sel=[spec_pieces[i,0]*u.MHz,spec_pieces[i,1]*u.MHz])\n",
    "            fig.add_axes([0.9,0.006+0.125*i,0.25, 0.105])\n",
    "            frame1=plt.gca()\n",
    "            spec_sel.plot_ss(new_fig=False, cb=False, fd_lim=[-2.0,2.0], tau_lim=[0.0,1.3],vmin=1e7,vmax=1e9)\n",
    "            frame1.axes.get_xaxis().set_ticks([])\n",
    "            frame1.axes.get_yaxis().set_ticks([])\n",
    "            spec_sel.get_noise()\n",
    "            if load_model is False:\n",
    "                if who=='Daniel':\n",
    "                    eta, eta_err, eta_f, eta_t, dic_etas=get_daniel_eta_fit(spec_sel, etas_pars=etas_pars,\n",
    "                                                                                edge=edge,ntau=512,method=method)\n",
    "                if who=='Marten':\n",
    "                    eta, eta_err, eta_f, eta_t, dic_etas=get_marten_mueff_fit(spec_sel, d_eff,\n",
    "                                                        etas_pars=etas_pars, edge=edge,ntau=512)\n",
    "                if np.isnan(eta):\n",
    "                    if i==0:\n",
    "                        print ('not correct eta, take highest value')\n",
    "                        eta=etas_pars[1]*eta_err.unit\n",
    "                    else:\n",
    "                        print ('scales eta, because the fit did not converge')\n",
    "                        eta=etas[i-1]*(etas_f[i-1]/eta_f)**2\n",
    "                f.write('%.3f, %.3f, %.3f, %.3f \\n'%(eta.value, eta_err.value, eta_f.value, eta_t))\n",
    "                dics_etas.append(dic_etas)\n",
    "            else:\n",
    "                eta=eta_ref*(ref_freq/spec_sel.f.mean())**2\n",
    "                eta_err=0.0*eta.unit\n",
    "                eta_f=np.mean(spec_sel.f)\n",
    "                eta_t=np.mean(spec_sel.mjd.mjd)\n",
    "                \n",
    "            etas.append(eta)\n",
    "            etas_err.append(eta_err)\n",
    "            etas_f.append(eta_f)\n",
    "            etas_t.append(eta_t)\n",
    "                    \n",
    "            print (eta, eta_err, eta_f, eta_t)\n",
    "            \n",
    "            model_E, model_ds, model_ss, model_field = get_models(spec_sel, eta, edge=edge,ntau=512)\n",
    "            model_spec=ModelSpec(eta=eta, mI=model_ds, mIs=model_ss, mE=model_E, mEs=model_field,\n",
    "                                     spec=spec_sel)\n",
    "            extent=ext_find(model_spec.spec.ss.fd, model_spec.spec.ss.tau)\n",
    "            tau_axis=np.linspace(extent[2],extent[3], np.shape(model_spec.mEs)[0])\n",
    "            delay_es=model_spec.mEs.sum(1)\n",
    "            tau_axis_pos=tau_axis[(tau_axis>0)]\n",
    "            delay_es_pos=delay_es[(tau_axis>0)]\n",
    "            my_delay=np.average(tau_axis_pos, weights=delay_es_pos)\n",
    "            h.write('%.3f, %.3f, %.3f \\n'%(my_delay, eta_f.value, eta_t))\n",
    "            delays.append(my_delay)\n",
    "            \n",
    "            fig.add_axes([0.3,0.006+0.125*i,0.25, 0.105])\n",
    "            frame1=plt.gca()\n",
    "            model_spec.plot_mds(new_fig=False)\n",
    "            frame1.axes.get_xaxis().set_ticks([])\n",
    "            frame1.axes.get_yaxis().set_ticks([])\n",
    "            fig.add_axes([0.6,0.006+0.125*i,0.25, 0.105])\n",
    "            frame1=plt.gca()\n",
    "            model_spec.plot_me(new_fig=False)\n",
    "            frame1.axes.get_xaxis().set_ticks([])\n",
    "            frame1.axes.get_yaxis().set_ticks([])\n",
    "            fig.add_axes([1.2,0.006+0.125*i,0.25, 0.105])\n",
    "            frame1=plt.gca()\n",
    "            model_spec.plot_mss(new_fig=False, cb=False)\n",
    "            frame1.axes.get_xaxis().set_ticks([])\n",
    "            frame1.axes.get_yaxis().set_ticks([])\n",
    "            fig.add_axes([1.5,0.006+0.125*i,0.25, 0.105])\n",
    "            frame1=plt.gca()\n",
    "            model_spec.plot_mes(new_fig=False, cb=False)\n",
    "            frame1.axes.get_xaxis().set_ticks([])\n",
    "            frame1.axes.get_yaxis().set_ticks([])\n",
    "            fig.add_axes([1.8,0.006+0.125*i,0.25, 0.105])\n",
    "            if save_models is True:\n",
    "                all_models.append(model_spec)\n",
    "            if load_model is False:\n",
    "                frame1=plt.gca()\n",
    "                plot_etas(dic_etas,new_fig=False)\n",
    "                frame1.axes.get_xaxis().set_ticks([])\n",
    "                frame1.axes.get_yaxis().set_ticks([])\n",
    "                aux_name='fullfit'\n",
    "            else:\n",
    "                aux_name='fullmodel_%.1f'%eta.value\n",
    "            print ('----------')\n",
    "        plt.savefig('triple_%.2f_%s_%s_%s.png'%(my_spec.stend[0],my_spec.tel,aux_name,who),format='png',\n",
    "                    bbox_inches='tight',dpi=70)\n",
    "        plt.show()\n",
    "        j=j+1\n",
    "    f.close()\n",
    "    h.close()\n",
    "    return etas, etas_err, etas_f, etas_t, dics_etas, all_models, delays\n"
   ]
  },
  {
   "cell_type": "code",
   "execution_count": null,
   "metadata": {
    "collapsed": true
   },
   "outputs": [],
   "source": [
    "def get_curv_fits_wsrt(name, figsize=(5,7.5), spec_pieces='Default', etas_pars=[0.25,7.5,0.25], method='chi2',\n",
    "                      pc7=False, load_model=False, eta_ref=None, ref_freq=None, edge=1.4, save_models=False,\n",
    "                      who='Daniel', d_eff=1300*u.pc):\n",
    "    if spec_pieces=='Default':\n",
    "        if pc7 is True:\n",
    "            spec_pieces=np.array([[1312,1328],[1332,1348],[1352,1368],[1372,1388],[1392,1408],\n",
    "                      [1412,1428],[1432,1448]])\n",
    "        else:\n",
    "            spec_pieces=np.array([[1301,1317],[1321,1337],[1341,1357],[1361,1377],[1381,1397],\n",
    "                      [1401,1417],[1421,1437],[1441,1457]])\n",
    "    else:\n",
    "        spec_pieces=spec_pieces\n",
    "    shr_spec=load_triple_spectrum(name, factor=[16,1])\n",
    "    this_spec=load_triple_spectrum(name, factor=[1,1])\n",
    "\n",
    "    my_specs=[]\n",
    "    shr_specs=[]\n",
    "    if (shr_spec.stend[1]-shr_spec.stend[0])>3.2/24.:\n",
    "        break_mjd=(shr_spec.stend[1]+shr_spec.stend[0])/2\n",
    "        st_spec=this_spec.select(time_sel=[this_spec.stend[0]*u.d,break_mjd*u.d])\n",
    "        end_spec=this_spec.select(time_sel=[break_mjd*u.d,this_spec.stend[1]*u.d])\n",
    "        my_specs.append(st_spec)\n",
    "        my_specs.append(end_spec)\n",
    "\n",
    "        st_spec_shr=shr_spec.select(time_sel=[shr_spec.stend[0]*u.d,break_mjd*u.d])\n",
    "        end_spec_shr=shr_spec.select(time_sel=[break_mjd*u.d,shr_spec.stend[1]*u.d])\n",
    "        shr_specs.append(st_spec_shr)\n",
    "        shr_specs.append(end_spec_shr)\n",
    "    else:\n",
    "        my_specs.append(this_spec)\n",
    "        shr_specs.append(shr_spec)\n",
    "\n",
    "    etas, etas_err, etas_f, etas_t, dics_etas, all_models, delays=[],[],[],[],[],[],[]\n",
    "    f = open(\"etas_results_fit_%.2f_%s.txt\"%(this_spec.stend[0],who), \"a\")\n",
    "    if load_model is False:\n",
    "        h = open(\"delay_results_fit_%.2f_%s.txt\"%(this_spec.stend[0],who), \"a\")\n",
    "    else:\n",
    "        h = open(\"delay_results_model_%.2f.txt\"%this_spec.stend[0], \"a\")\n",
    "    j=0\n",
    "    for my_spec in my_specs:\n",
    "        fig=plt.figure(figsize=figsize, dpi= 70, facecolor='w', edgecolor='k')\n",
    "        fig.add_axes([0.0,0.0,0.25,1.0])\n",
    "        plt.gca()\n",
    "        shr_specs[j].plot_ds(new_fig=False)\n",
    "        for i in range(0,spec_pieces.shape[0]):\n",
    "            spec_sel=my_spec.select(time_sel=[my_spec.stend[0]*u.d,my_spec.stend[1]*u.d],\n",
    "                                            freq_sel=[spec_pieces[i,0]*u.MHz,spec_pieces[i,1]*u.MHz])\n",
    "            fig.add_axes([0.9,0.006+0.125*i,0.25, 0.105])\n",
    "            frame1=plt.gca()\n",
    "            spec_sel.plot_ss(new_fig=False, cb=False, fd_lim=[-2.0,2.0], tau_lim=[0.0,1.3],vmin=1e7,vmax=1e9)\n",
    "            frame1.axes.get_xaxis().set_ticks([])\n",
    "            frame1.axes.get_yaxis().set_ticks([])\n",
    "            spec_sel.get_noise()\n",
    "            if load_model is False:\n",
    "\n",
    "                if who=='Daniel':\n",
    "                    eta, eta_err, eta_f, eta_t, dic_etas=get_daniel_eta_fit(spec_sel, etas_pars=etas_pars,\n",
    "                                                                                edge=edge,ntau=512,method=method)\n",
    "                if who=='Marten':\n",
    "                    eta, eta_err, eta_f, eta_t, dic_etas=get_marten_mueff_fit(spec_sel, d_eff,\n",
    "                                                        etas_pars=etas_pars, edge=edge,ntau=512)\n",
    "                if np.isnan(eta):\n",
    "                    if i==0:\n",
    "                        print ('not correct eta, take highest value')\n",
    "                        eta=etas_pars[1]*eta_err.unit\n",
    "                    else:\n",
    "                        print ('scales eta, because the fit did not converge')\n",
    "                        eta=etas[i-1]*(etas_f[i-1]/eta_f)**2\n",
    "                f.write('%.3f, %.3f, %.3f, %.3f \\n'%(eta.value, eta_err.value, eta_f.value, eta_t))\n",
    "                dics_etas.append(dic_etas)\n",
    "            else:\n",
    "                eta=eta_ref*(ref_freq/spec_sel.f.mean())**2\n",
    "                eta_err=0.0*eta.unit\n",
    "                eta_f=np.mean(spec_sel.f)\n",
    "                eta_t=np.mean(spec_sel.mjd.mjd)\n",
    "\n",
    "            etas.append(eta)\n",
    "            etas_err.append(eta_err)\n",
    "            etas_f.append(eta_f)\n",
    "            etas_t.append(eta_t)\n",
    "\n",
    "            print (eta, eta_err, eta_f, eta_t)\n",
    "\n",
    "            model_E, model_ds, model_ss, model_field = get_models(spec_sel, eta, edge=edge,ntau=512)\n",
    "            model_spec=ModelSpec(eta=eta, mI=model_ds, mIs=model_ss, mE=model_E, mEs=model_field,\n",
    "                                     spec=spec_sel)\n",
    "            extent=ext_find(model_spec.spec.ss.fd, model_spec.spec.ss.tau)\n",
    "            tau_axis=np.linspace(extent[2],extent[3], np.shape(model_spec.mEs)[0])\n",
    "            delay_es=model_spec.mEs.sum(1)\n",
    "            tau_axis_pos=tau_axis[(tau_axis>0)]\n",
    "            delay_es_pos=delay_es[(tau_axis>0)]\n",
    "            my_delay=np.average(tau_axis_pos, weights=delay_es_pos)\n",
    "            h.write('%.3f, %.3f, %.3f \\n'%(my_delay, eta_f.value, eta_t))\n",
    "            delays.append(my_delay)\n",
    "\n",
    "            fig.add_axes([0.3,0.006+0.125*i,0.25, 0.105])\n",
    "            frame1=plt.gca()\n",
    "            model_spec.plot_mds(new_fig=False)\n",
    "            frame1.axes.get_xaxis().set_ticks([])\n",
    "            frame1.axes.get_yaxis().set_ticks([])\n",
    "            fig.add_axes([0.6,0.006+0.125*i,0.25, 0.105])\n",
    "            frame1=plt.gca()\n",
    "            model_spec.plot_me(new_fig=False)\n",
    "            frame1.axes.get_xaxis().set_ticks([])\n",
    "            frame1.axes.get_yaxis().set_ticks([])\n",
    "            fig.add_axes([1.2,0.006+0.125*i,0.25, 0.105])\n",
    "            frame1=plt.gca()\n",
    "            model_spec.plot_mss(new_fig=False, cb=False)\n",
    "            frame1.axes.get_xaxis().set_ticks([])\n",
    "            frame1.axes.get_yaxis().set_ticks([])\n",
    "            fig.add_axes([1.5,0.006+0.125*i,0.25, 0.105])\n",
    "            frame1=plt.gca()\n",
    "            model_spec.plot_mes(new_fig=False, cb=False)\n",
    "            frame1.axes.get_xaxis().set_ticks([])\n",
    "            frame1.axes.get_yaxis().set_ticks([])\n",
    "            fig.add_axes([1.8,0.006+0.125*i,0.25, 0.105])\n",
    "            if save_models is True:\n",
    "                all_models.append(model_spec)\n",
    "            if load_model is False:\n",
    "                frame1=plt.gca()\n",
    "                plot_etas(dic_etas,new_fig=False)\n",
    "                frame1.axes.get_xaxis().set_ticks([])\n",
    "                frame1.axes.get_yaxis().set_ticks([])\n",
    "                aux_name='fullfit'\n",
    "            else:\n",
    "                aux_name='fullmodel_%.1f'%eta.value\n",
    "            print ('----------')\n",
    "        plt.savefig('triple_%.2f_%s_%s_%s.png'%(my_spec.stend[0],my_spec.tel,aux_name,who),format='png',\n",
    "                    bbox_inches='tight',dpi=70)\n",
    "        plt.show()\n",
    "        j=j+1\n",
    "    f.close()\n",
    "    h.close()\n",
    "    return etas, etas_err, etas_f, etas_t, dics_etas, all_models, delays\n"
   ]
  },
  {
   "cell_type": "code",
   "execution_count": null,
   "metadata": {
    "collapsed": true
   },
   "outputs": [],
   "source": []
  },
  {
   "cell_type": "code",
   "execution_count": null,
   "metadata": {
    "collapsed": true
   },
   "outputs": [],
   "source": []
  },
  {
   "cell_type": "code",
   "execution_count": null,
   "metadata": {
    "collapsed": true
   },
   "outputs": [],
   "source": []
  },
  {
   "cell_type": "code",
   "execution_count": null,
   "metadata": {
    "collapsed": true
   },
   "outputs": [],
   "source": []
  },
  {
   "cell_type": "code",
   "execution_count": null,
   "metadata": {
    "collapsed": true
   },
   "outputs": [],
   "source": []
  },
  {
   "cell_type": "code",
   "execution_count": null,
   "metadata": {
    "collapsed": true
   },
   "outputs": [],
   "source": [
    "def get_daniel_dveff_fit_wsrt(myspec, etas_pars=[0.5,7.5,0.25], edge=1.4,ntau=512,\n",
    "                            spec_pieces='Default', neta=100, ind_mean0=True):\n",
    "    print ('Method chi2:', myspec)\n",
    "    if spec_pieces=='Default':\n",
    "        spec_pieces=np.array([[1301,1317],[1321,1337],[1341,1357],[1361,1377],[1381,1397],\n",
    "                      [1401,1417],[1421,1437],[1441,1457]])\n",
    "    \n",
    "    \n",
    "    etas_init=np.arange(etas_pars[0],etas_pars[1],etas_pars[2])\n",
    "    ##Define range of curvatures to search\n",
    "    eta_low=np.amin(etas_init)*u.us/(u.mHz**2)\n",
    "    eta_high=np.amax(etas_init)*u.us/(u.mHz**2)\n",
    "\n",
    "    dveff_low=eta_to_dveff(eta_high, myspec)\n",
    "    dveff_high=eta_to_dveff(eta_low, myspec)\n",
    "\n",
    "    dveffs2=np.linspace(dveff_high.value,dveff_low.value,neta)*dveff_low.unit\n",
    "    chisq=np.zeros(dveffs2.shape[0])\n",
    "    edges=np.linspace(-edge,edge,ntau)\n",
    "    ref_freq=myspec.f.mean()\n",
    "    \n",
    "    specs=[]\n",
    "    for i in range(0,spec_pieces.shape[0]):\n",
    "        spec_sel=myspec.select(time_sel=[myspec.stend[0]*u.d,myspec.stend[1]*u.d],\n",
    "                                        freq_sel=[spec_pieces[i,0]*u.MHz,spec_pieces[i,1]*u.MHz])\n",
    "        if ind_mean0 is True:\n",
    "            spec_sel.I=spec_sel.I-np.mean(spec_sel.I)\n",
    "            spec_sel.ss=spec_sel.make_ss(pad_it=True, npad=3)\n",
    "        specs.append(spec_sel)\n",
    "    \n",
    "    for i in range(dveffs2.shape[0]):\n",
    "        dveff=dveffs2[i]\n",
    "        this_chi2s=[]\n",
    "        etas3=[]\n",
    "        for spec_p in specs:\n",
    "            eta=dveff_to_eta(dveffs2[i],spec_p)\n",
    "            this_chi2=dsa.daniel_get_chi2_spec(spec_sel, eta, edge, ntau)\n",
    "            this_chi2s.append(this_chi2)\n",
    "            etas3.append(eta.value)\n",
    "        chisq[i]=np.mean(this_chi2s)\n",
    "        print (i, np.mean(etas3), dveff, chisq[i])\n",
    "            \n",
    "    dveff_min=dveffs2[chisq==chisq.min()][0]\n",
    "    fit_results=chisq[np.abs(dveffs2-dveff_min)<.1*dveff_min]\n",
    "    C=fit_results.min()            \n",
    "    measure=chisq\n",
    "    dveffs_fit=dveffs2[np.abs(dveffs2-dveff_min)<.1*dveff_min]\n",
    "    x0=dveffs_fit[fit_results==C][0].value\n",
    "    A=(fit_results[0]-C)/((dveffs_fit[0].value-x0)**2)\n",
    "    \n",
    "    try:\n",
    "        popt,pcov=curve_fit(THTH.chi_par,dveffs_fit.value,fit_results,p0=np.array([A,x0,C]))\n",
    "        dveff_fit=popt[1]*dveffs2.unit\n",
    "        dveff_sig=np.sqrt((fit_results-THTH.chi_par(dveffs_fit.value,*popt)).std()/popt[0])*dveffs2.unit\n",
    "    except RuntimeError:\n",
    "        print('Fit curve didnt converge')\n",
    "        vdeff_fit, dveff_sig, popt=float('nan') , 0.0*dveffs_fit.unit,  0.0\n",
    "    except TypeError:\n",
    "        print ('Improper input: N=3 must not exceed M=1; -- why?')\n",
    "        vdeff_fit, dveff_sig, popt=float('nan') , 0.0*dveffs_fit.unit,  0.0\n",
    "    \n",
    "    dveffs_dic={'etas':dveffs2, 'etas_fit':dveffs_fit, 'measure':measure, 'etas_fit_res':popt,\n",
    "              'eta_fit':dveff_fit, 'eta_sig':dveff_sig}\n",
    "    return dveff_fit, dveff_sig, np.mean(myspec.f), np.mean(myspec.mjd.mjd), dveffs_dic\n",
    "\n",
    "\n",
    "def get_curv_simfits_wsrt(name, figsize=(5,7.5), spec_pieces='Default', etas_pars=[0.5,7.5,0.25], method='chi2',\n",
    "                      pc7=False, edge=1.4,who='Daniel', time_lim=2.5,\n",
    "                       d_eff=1300*u.pc, mean0=True, ind_mean0=False):\n",
    "    if spec_pieces=='Default':\n",
    "        if pc7 is True:\n",
    "            spec_pieces=np.array([[1312,1328],[1332,1348],[1352,1368],[1372,1388],[1392,1408],\n",
    "                      [1412,1428],[1432,1448]])\n",
    "        else:\n",
    "            spec_pieces=np.array([[1301,1317],[1321,1337],[1341,1357],[1361,1377],[1381,1397],\n",
    "                      [1401,1417],[1421,1437],[1441,1457]])\n",
    "    else:\n",
    "        spec_pieces=spec_pieces\n",
    "    shr_spec=dsa.load_triple_spectrum(name, factor=[16,1], mean0=mean0)\n",
    "    this_spec=dsa.load_triple_spectrum(name, factor=[1,1], mean0=mean0)\n",
    "    \n",
    "    my_specs=[]\n",
    "    shr_specs=[]\n",
    "    if (shr_spec.stend[1]-shr_spec.stend[0])>time_lim/24.:\n",
    "        break_mjd=(shr_spec.stend[1]+shr_spec.stend[0])/2\n",
    "        st_spec=this_spec.select(time_sel=[this_spec.stend[0]*u.d,break_mjd*u.d])\n",
    "        end_spec=this_spec.select(time_sel=[break_mjd*u.d,this_spec.stend[1]*u.d])\n",
    "        my_specs.append(st_spec)\n",
    "        my_specs.append(end_spec)\n",
    "        \n",
    "        st_spec_shr=shr_spec.select(time_sel=[shr_spec.stend[0]*u.d,break_mjd*u.d])\n",
    "        end_spec_shr=shr_spec.select(time_sel=[break_mjd*u.d,shr_spec.stend[1]*u.d])\n",
    "        shr_specs.append(st_spec_shr)\n",
    "        shr_specs.append(end_spec_shr)\n",
    "    else:\n",
    "        my_specs.append(this_spec)\n",
    "        shr_specs.append(shr_spec)\n",
    "    \n",
    "    etas, etas_err, etas_f, etas_t, dics_etas=[],[],[],[],[]\n",
    "    j=0\n",
    "    for my_spec in my_specs:\n",
    "        f = open(\"dveff_results_simfit_%s.txt\"%who, \"a\")\n",
    "        fig=plt.figure(figsize=figsize, dpi= 70, facecolor='w', edgecolor='k')\n",
    "        fig.add_axes([0.0,0.0,0.25,1.0])\n",
    "        plt.gca()\n",
    "        shr_specs[j].plot_ds(new_fig=False)\n",
    "        \n",
    "        dveff_fit, dveff_sig, eta_freq, eta_mjd, etas_dic=get_daniel_dveff_fit_wsrt(my_spec, neta=100,\n",
    "                                                                                etas_pars=etas_pars)\n",
    "        f.write('%.3f, %.3f, %.3f, %.3f \\n'%(dveff_fit.value, dveff_sig.value, eta_freq.value, eta_mjd))\n",
    "        print ('%.3f, %.3f, %.3f, %.3f \\n'%(dveff_fit.value, dveff_sig.value, eta_freq.value, eta_mjd))\n",
    "        \n",
    "        eta_ref=dveff_to_eta(dveff_fit, my_spec)\n",
    "        ref_freq=my_spec.f.mean()\n",
    "        for i in range(0,spec_pieces.shape[0]):\n",
    "            spec_sel=my_spec.select(time_sel=[my_spec.stend[0]*u.d,my_spec.stend[1]*u.d],\n",
    "                                            freq_sel=[spec_pieces[i,0]*u.MHz,spec_pieces[i,1]*u.MHz])\n",
    "            \n",
    "            fig.add_axes([0.9,0.006+0.125*i,0.25, 0.105])\n",
    "            frame1=plt.gca()\n",
    "            spec_sel.plot_ss(new_fig=False, cb=False, fd_lim=[-2.0,2.0], tau_lim=[0.0,1.3],vmin=1e7,vmax=1e9)\n",
    "            frame1.axes.get_xaxis().set_ticks([])\n",
    "            frame1.axes.get_yaxis().set_ticks([])\n",
    "\n",
    "            eta=eta_ref*(ref_freq/spec_sel.f.mean())**2\n",
    "            eta_err=0.0*eta.unit\n",
    "            eta_f=np.mean(spec_sel.f)\n",
    "            eta_t=np.mean(spec_sel.mjd.mjd)\n",
    "                \n",
    "            etas.append(eta)\n",
    "            etas_err.append(eta_err)\n",
    "            etas_f.append(eta_f)\n",
    "            etas_t.append(eta_t)\n",
    "                    \n",
    "            print (eta, eta_err, eta_f, eta_t)\n",
    "            \n",
    "            model_E, model_ds, model_ss, model_field, chi2 = dsa.get_models(spec_sel, eta, edge=edge,ntau=512)\n",
    "            model_spec=dsa.ModelSpec(eta=eta, mI=model_ds, mIs=model_ss, mE=model_E, mEs=model_field,\n",
    "                                     spec=spec_sel)\n",
    "            \n",
    "            fig.add_axes([0.3,0.006+0.125*i,0.25, 0.105])\n",
    "            frame1=plt.gca()\n",
    "            model_spec.plot_mds(new_fig=False)\n",
    "            frame1.axes.get_xaxis().set_ticks([])\n",
    "            frame1.axes.get_yaxis().set_ticks([])\n",
    "            fig.add_axes([0.6,0.006+0.125*i,0.25, 0.105])\n",
    "            frame1=plt.gca()\n",
    "            model_spec.plot_me(new_fig=False)\n",
    "            frame1.axes.get_xaxis().set_ticks([])\n",
    "            frame1.axes.get_yaxis().set_ticks([])\n",
    "            fig.add_axes([1.2,0.006+0.125*i,0.25, 0.105])\n",
    "            frame1=plt.gca()\n",
    "            model_spec.plot_mss(new_fig=False, cb=False)\n",
    "            frame1.axes.get_xaxis().set_ticks([])\n",
    "            frame1.axes.get_yaxis().set_ticks([])\n",
    "            fig.add_axes([1.5,0.006+0.125*i,0.25, 0.105])\n",
    "            frame1=plt.gca()\n",
    "            model_spec.plot_mes(new_fig=False, cb=False)\n",
    "            frame1.axes.get_xaxis().set_ticks([])\n",
    "            frame1.axes.get_yaxis().set_ticks([])\n",
    "            print ('----------')\n",
    "        fig.add_axes([1.8,0.006+0.125*4,0.25, 0.105])\n",
    "        frame1=plt.gca()\n",
    "        dsa.plot_etas(etas_dic,new_fig=False)\n",
    "        frame1.axes.get_xaxis().set_ticks([])\n",
    "        frame1.axes.get_yaxis().set_ticks([])\n",
    "        aux_name='dveff_%.1f'%dveff_fit.value\n",
    "        plt.savefig('triple_%.2f_%s_%s_%s.png'%(my_spec.stend[0],my_spec.tel,aux_name,who),format='png',\n",
    "                    bbox_inches='tight',dpi=70)\n",
    "        plt.show()\n",
    "        j=j+1\n",
    "        f.close()\n",
    "    return etas, etas_err, etas_f, etas_t, dics_etas"
   ]
  },
  {
   "cell_type": "code",
   "execution_count": null,
   "metadata": {
    "collapsed": true
   },
   "outputs": [],
   "source": [
    "rd=np.load(list_2to4[1])\n",
    "\n",
    "data=rd['data']\n",
    "amp=rd['amp']\n",
    "templ=rd['templ']\n",
    "bg=rd['bg']\n",
    "w=rd['weights']\n",
    "dprof=(data*w[...,None]).mean(axis=(0,1))\n",
    "\n",
    "fig=plt.figure(figsize=(5,3), dpi=150)\n",
    "plt.plot(templ)\n",
    "plt.plot(dprof)\n",
    "plt.show()\n",
    "fig=plt.figure(figsize=(5,3), dpi=150)\n",
    "plt.plot(templ*dprof)\n",
    "plt.show()\n",
    "fig=plt.figure(figsize=(5,3), dpi=150)\n",
    "plt.plot(tz*pz)\n",
    "plt.show()\n",
    "tz=templ-templ.mean()\n",
    "d= data-data.mean(axis=-1, keepdims=True)\n",
    "pz=dprof-np.mean(dprof)\n",
    "\n",
    "tz_sc=tz*amp+bg\n",
    "fig=plt.figure(figsize=(5,3), dpi=150)\n",
    "plt.plot(tz)\n",
    "plt.plot(pz)\n",
    "plt.plot(tz_sc)\n",
    "plt.show()\n",
    "\n",
    "\n",
    "variance=np.var(d-tz_sc, axis=-1, keepdims=True)\n",
    "\n",
    "j = np.sum(d*tz_sc, axis=-1)\n",
    "all_data=j[w!=0]\n",
    "j[w==0] = np.mean(all_data)\n",
    "\n",
    "\n",
    "ns = np.sqrt(np.sum(variance*tz_sc**2, axis=-1))\n",
    "all_noise=ns[w!=0]\n",
    "ns[w==0] = np.mean(all_noise)\n",
    "\n",
    "fc=16\n",
    "j_shr=ld.shrink_2(j, factor=[fc,1])\n",
    "ns_shr=ns/np.sqrt(fc)\n",
    "\n",
    "fig=plt.figure(figsize=(3,5), dpi=150)\n",
    "fig.add_axes([0.0,0.0,0.25,1])\n",
    "plt.gca()\n",
    "vmin, vmax=np.percentile(j_shr, [1,99])\n",
    "plt.imshow(j_shr.T, aspect='auto', origin='lower', vmin=vmin, vmax=vmax)\n",
    "plt.colorbar()\n",
    "fig.add_axes([0.75,0.0,0.25,1])\n",
    "plt.gca()\n",
    "vmin, vmax=np.percentile(ns_shr, [1,99])\n",
    "plt.imshow(ns_shr.T, aspect='auto', origin='lower', vmin=vmin, vmax=vmax)\n",
    "plt.colorbar()\n",
    "\n",
    "print (np.std(j_shr), np.mean(ns_shr))"
   ]
  }
 ],
 "metadata": {
  "kernelspec": {
   "display_name": "Python 3",
   "language": "python",
   "name": "python3"
  },
  "language_info": {
   "codemirror_mode": {
    "name": "ipython",
    "version": 3
   },
   "file_extension": ".py",
   "mimetype": "text/x-python",
   "name": "python",
   "nbconvert_exporter": "python",
   "pygments_lexer": "ipython3",
   "version": "3.6.3"
  }
 },
 "nbformat": 4,
 "nbformat_minor": 2
}
