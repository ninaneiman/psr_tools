{
 "cells": [
  {
   "cell_type": "code",
   "execution_count": null,
   "metadata": {},
   "outputs": [],
   "source": [
    "%load_ext autoreload\n",
    "%autoreload 2\n",
    "%matplotlib inline"
   ]
  },
  {
   "cell_type": "code",
   "execution_count": null,
   "metadata": {
    "collapsed": true
   },
   "outputs": [],
   "source": [
    "import numpy as np\n",
    "import scipy.linalg\n",
    "from astropy import units as u\n",
    "from astropy.visualization import quantity_support\n",
    "from matplotlib import pyplot as plt\n",
    "from astropy import constants as const\n",
    "#from baseband_tasks.io import hdf5\n",
    "from astropy.time import Time\n",
    "import pickle\n",
    "from scipy.optimize import curve_fit\n",
    "from scipy.sparse.linalg import eigsh\n",
    "from matplotlib.colors import LogNorm\n",
    "from glob import glob"
   ]
  },
  {
   "cell_type": "code",
   "execution_count": null,
   "metadata": {
    "collapsed": true
   },
   "outputs": [],
   "source": [
    "import sys\n",
    "import ththmod as THTH\n",
    "import load_data as ld\n",
    "import ds_psr as dsa\n",
    "import fit_thth as fth\n",
    "import models_thth as mth\n",
    "\n",
    "import sys\n",
    "sys.path.append('/home/gusinskaia/screens')\n",
    "#from screens.fields import dynamic_field, theta_grid\n",
    "from screens.dynspec import DynamicSpectrum\n",
    "from screens.visualization import ThetaTheta\n",
    "from screens.fields import dynamic_field, theta_grid, theta_theta_indices"
   ]
  },
  {
   "cell_type": "code",
   "execution_count": null,
   "metadata": {
    "collapsed": true
   },
   "outputs": [],
   "source": [
    "trdir='/mnt/scratch-lustre/gusinskaia/triple_system/'\n",
    "odir=trdir+'dss_mean/'\n",
    "fitdir=trdir+'for_fit/'\n",
    "npydir=trdir+'npys_vels/'\n",
    "imdir=trdir+'fitted_figures/'\n",
    "vlbidir=trdir+'dss_realvlba/'\n",
    "longdir=trdir+'dss_long/'\n",
    "onetotwo_dir=trdir+'dss_1to2/'\n",
    "armdir=trdir+'one_armed_arc/'\n",
    "nsdir=trdir+'dss_wsrt_wnoise/'\n",
    "\n",
    "spec_pieces=np.array([[1301,1317],[1321,1337],[1341,1357],[1361,1377],[1381,1397],\n",
    "                      [1401,1417],[1421,1437],[1441,1457]])"
   ]
  },
  {
   "cell_type": "code",
   "execution_count": null,
   "metadata": {},
   "outputs": [],
   "source": [
    "list_data=sorted(glob(nsdir+'*wns.npz'))\n",
    "print (len(list_data))\n",
    "for i in range(0,len(list_data)):\n",
    "    print (i, list_data[i][-28:])"
   ]
  },
  {
   "cell_type": "code",
   "execution_count": null,
   "metadata": {},
   "outputs": [],
   "source": [
    "k=0\n",
    "sp=dsa.load_triple_spectrum(list_data[k], wnoise=True, mean0=True)\n",
    "\n",
    "\n",
    "sp_shr=dsa.load_triple_spectrum(list_data[k], factor=[16,1], wnoise=True, mean0=True)\n",
    "sp"
   ]
  },
  {
   "cell_type": "markdown",
   "metadata": {},
   "source": [
    "# Full dynamic spectrum\n"
   ]
  },
  {
   "cell_type": "code",
   "execution_count": null,
   "metadata": {},
   "outputs": [],
   "source": [
    "fig=plt.figure(figsize=(3,5), dpi=150)\n",
    "fig.add_axes([0.0,0.0,0.3,1])\n",
    "plt.gca()\n",
    "sp_shr.plot_ds(new_fig=False)\n",
    "plt.colorbar()\n",
    "fig.add_axes([0.75,0.0,0.25,1])\n",
    "plt.gca()\n",
    "sp_shr.plot_nds(new_fig=False)\n",
    "plt.colorbar()"
   ]
  },
  {
   "cell_type": "code",
   "execution_count": null,
   "metadata": {},
   "outputs": [],
   "source": [
    "np.array([3.5,7.6], dtype=int)"
   ]
  },
  {
   "cell_type": "code",
   "execution_count": null,
   "metadata": {},
   "outputs": [],
   "source": [
    "new_sp=sp.shrink(factor=[4,7])"
   ]
  },
  {
   "cell_type": "code",
   "execution_count": null,
   "metadata": {},
   "outputs": [],
   "source": [
    "plt.plot(np.std(sp_shr.I, axis=0))\n",
    "plt.plot(np.mean(sp_shr.nI, axis=0))"
   ]
  },
  {
   "cell_type": "code",
   "execution_count": null,
   "metadata": {},
   "outputs": [],
   "source": [
    "print (np.std(sp_shr.I), np.mean(sp_shr.nI))"
   ]
  },
  {
   "cell_type": "code",
   "execution_count": null,
   "metadata": {},
   "outputs": [],
   "source": [
    "i=1\n",
    "sp_sel=sp.select(time_sel=[sp.stend[0]*u.d,sp.stend[1]*u.d],\n",
    "                                            freq_sel=[spec_pieces[i,0]*u.MHz,spec_pieces[i,1]*u.MHz])\n",
    "\n",
    "sp_shr_sel=sp_shr.select(time_sel=[sp_shr.stend[0]*u.d,sp_shr.stend[1]*u.d],\n",
    "                                            freq_sel=[spec_pieces[i,0]*u.MHz,spec_pieces[i,1]*u.MHz])\n",
    "sp_sel"
   ]
  },
  {
   "cell_type": "markdown",
   "metadata": {},
   "source": [
    "## Part of DS that is going to be used as an example: \n",
    "(very bad quality, but still works)"
   ]
  },
  {
   "cell_type": "code",
   "execution_count": null,
   "metadata": {},
   "outputs": [],
   "source": [
    "fig=plt.figure(figsize=(8,2), dpi=150)\n",
    "fig.add_axes([0.0,0.0,0.35,1.0])\n",
    "frame1=plt.gca()\n",
    "sp_shr_sel.plot_ds(new_fig=False)\n",
    "plt.title('resolution in time x4 worse')\n",
    "print ('Scranched shape:', np.shape(sp_shr_sel.I))\n",
    "\n",
    "fig.add_axes([0.5,0.0,0.35,1.0])\n",
    "frame1=plt.gca()\n",
    "sp_sel.plot_ds(new_fig=False)\n",
    "plt.title('Actual resolution')\n",
    "print ('Original shape:', np.shape(sp_sel.I))\n",
    "\n",
    "\n"
   ]
  },
  {
   "cell_type": "code",
   "execution_count": null,
   "metadata": {
    "collapsed": true
   },
   "outputs": [],
   "source": []
  },
  {
   "cell_type": "markdown",
   "metadata": {},
   "source": [
    "# Make secondary spectrum  $\\tilde{I}\\left( f_D,\\tau \\right)$:\n"
   ]
  },
  {
   "cell_type": "code",
   "execution_count": null,
   "metadata": {},
   "outputs": [],
   "source": [
    "fig=plt.figure(figsize=(9,2.5), dpi=150)\n",
    "fig.add_axes([0.0,0.0,0.35,1.0])\n",
    "frame1=plt.gca()\n",
    "sp_sel.ss=sp_sel.make_ss(pad_it=False)\n",
    "sp_sel.plot_ss(new_fig=False, vmin=7e6, vmax=7e8)\n",
    "plt.title('Original')\n",
    "print ('Original shape:', np.shape(sp_sel.ss.Is))\n",
    "\n",
    "fig.add_axes([0.5,0.0,0.35,1.0])\n",
    "frame1=plt.gca()\n",
    "sp_sel.ss=sp_sel.make_ss(pad_it=True, npad=3)\n",
    "sp_sel.plot_ss(new_fig=False, vmin=7e6, vmax=7e8)\n",
    "plt.title('Paded with zeros')\n",
    "print ('Padded shape:', np.shape(sp_sel.ss.Is))\n"
   ]
  },
  {
   "cell_type": "markdown",
   "metadata": {},
   "source": [
    "# Map $\\theta - \\theta$ space\n",
    "\n",
    "# Daniel Approach:\n",
    "## $$\\tilde{I}\\left(\\theta_1,\\theta_2;\\eta\\right) = \\tilde{I}\\left( f_D\\left(\\theta_1,\\theta_2\\right),\n",
    "                                                                \\tau\\left(\\theta_1,\\theta_2;\n",
    "                                                                          \\eta\\right)\\right)\n",
    "\\sqrt{|2\\eta\\left(\\theta_1-\\theta_2\\right)|}$$\n",
    "\n",
    "## For  $\\eta = 1.3 s^3$"
   ]
  },
  {
   "cell_type": "code",
   "execution_count": null,
   "metadata": {
    "collapsed": true
   },
   "outputs": [],
   "source": []
  },
  {
   "cell_type": "code",
   "execution_count": null,
   "metadata": {},
   "outputs": [],
   "source": [
    "edge, ntau=1.4, 512\n",
    "edges=np.linspace(-edge,edge,ntau)\n",
    "th_cents = (edges[1:] + edges[:-1]) / 2\n",
    "th_cents -= th_cents[np.abs(th_cents) == np.abs(th_cents).min()]\n",
    "# Calculate theta1 and th2 arrays\n",
    "th1 = np.ones((th_cents.shape[0], th_cents.shape[0])) * th_cents\n",
    "th2 = th1.T\n",
    "fig=plt.figure(figsize=(9,2.5), dpi=150)\n",
    "fig.add_axes([0.0,0.0,0.35,1.0])\n",
    "frame1=plt.gca()\n",
    "plt.imshow((th1**2-th2**2)*1.3)\n",
    "plt.colorbar()\n",
    "plt.title(r'$\\tau (\\theta_1, \\theta_2, \\eta)$')\n",
    "\n",
    "fig.add_axes([0.5,0.0,0.35,1.0])\n",
    "frame1=plt.gca()\n",
    "plt.imshow(th1-th2)\n",
    "plt.colorbar()\n",
    "plt.title(r'$f_D (\\theta_1, \\theta_2)$')"
   ]
  },
  {
   "cell_type": "markdown",
   "metadata": {},
   "source": [
    "## $$  f_D = \\theta_1 - \\theta_2$$\n",
    "\n",
    "## $$\\tau = \\eta \\left(\\theta_1^2 - \\theta_2^2\\right) = \\eta  f_D(\\theta_1+\\theta_2)$$"
   ]
  },
  {
   "cell_type": "code",
   "execution_count": null,
   "metadata": {},
   "outputs": [],
   "source": [
    "ss=np.abs(np.abs(sp_sel.ss.Is)**2)\n",
    "\n",
    "sp_sel.ss.tau\n",
    "\n",
    "plt.imshow(ss, aspect='auto')"
   ]
  },
  {
   "cell_type": "code",
   "execution_count": null,
   "metadata": {},
   "outputs": [],
   "source": [
    "sp_sel.ss.tau.shape"
   ]
  },
  {
   "cell_type": "code",
   "execution_count": null,
   "metadata": {},
   "outputs": [],
   "source": [
    "sp_sel.ss.Is.shape"
   ]
  },
  {
   "cell_type": "code",
   "execution_count": null,
   "metadata": {},
   "outputs": [],
   "source": [
    "sp_sel.ss.Is.size"
   ]
  },
  {
   "cell_type": "code",
   "execution_count": null,
   "metadata": {},
   "outputs": [],
   "source": [
    "sp_sel.I.shape"
   ]
  },
  {
   "cell_type": "code",
   "execution_count": null,
   "metadata": {
    "collapsed": true
   },
   "outputs": [],
   "source": [
    "ndof=ds.shape[1]*ds.shape[0]-thth_red.shape[0] - 2"
   ]
  },
  {
   "cell_type": "code",
   "execution_count": null,
   "metadata": {},
   "outputs": [],
   "source": [
    "sp_sel.ss.tau.shape"
   ]
  },
  {
   "cell_type": "code",
   "execution_count": null,
   "metadata": {},
   "outputs": [],
   "source": [
    "(208-73)+2"
   ]
  },
  {
   "cell_type": "code",
   "execution_count": null,
   "metadata": {},
   "outputs": [],
   "source": [
    "tau_r.shape[0]"
   ]
  },
  {
   "cell_type": "code",
   "execution_count": null,
   "metadata": {},
   "outputs": [],
   "source": [
    "thth_r.size"
   ]
  },
  {
   "cell_type": "code",
   "execution_count": null,
   "metadata": {},
   "outputs": [],
   "source": [
    "edge, ntau=1.4, 512\n",
    "edges=np.linspace(-edge,edge,ntau)\n",
    "vmin, vmax=1e6, 1e9\n",
    "\n",
    "fig=plt.figure(figsize=(9,5), dpi=150)\n",
    "\n",
    "fig.add_axes([0.0,0.0,0.35,0.35])\n",
    "frame1=plt.gca()\n",
    "thth=THTH.thth_map(sp_sel.ss.Is,sp_sel.ss.tau,sp_sel.ss.fd,eta=5*u.us/(u.mHz**2),edges=edges)\n",
    "plt.imshow(abs(thth)**2,norm=LogNorm(vmin=vmin, vmax=vmax))\n",
    "plt.colorbar()\n",
    "plt.title(r'$\\eta= 5 s^3$')\n",
    "\n",
    "fig.add_axes([0.0,-0.45,0.35,0.35])\n",
    "frame1=plt.gca()\n",
    "thth_r, edges_r=THTH.thth_redmap(sp_sel.ss.Is,sp_sel.ss.tau,sp_sel.ss.fd,eta=5*u.us/(u.mHz**2),edges=edges)\n",
    "plt.imshow(abs(thth_r)**2,norm=LogNorm(vmin=vmin, vmax=vmax))\n",
    "plt.colorbar()\n",
    "\n",
    "fig.add_axes([0.4,0.0,0.35,0.35])\n",
    "frame1=plt.gca()\n",
    "thth=THTH.thth_map(sp_sel.ss.Is,sp_sel.ss.tau,sp_sel.ss.fd,eta=1.3*u.us/(u.mHz**2),edges=edges)\n",
    "plt.imshow(abs(thth)**2,norm=LogNorm(vmin=vmin, vmax=vmax))\n",
    "plt.colorbar()\n",
    "plt.title(r'$\\eta= 1.3 s^3$')\n",
    "\n",
    "fig.add_axes([0.4,-0.45,0.35,0.35])\n",
    "frame1=plt.gca()\n",
    "thth_r, edges_r=THTH.thth_redmap(sp_sel.ss.Is,sp_sel.ss.tau,sp_sel.ss.fd,eta=1.3*u.us/(u.mHz**2),edges=edges)\n",
    "plt.imshow(abs(thth_r)**2,norm=LogNorm(vmin=vmin, vmax=vmax))\n",
    "plt.colorbar()\n",
    "\n",
    "fig.add_axes([0.8,0.0,0.35,0.35])\n",
    "frame1=plt.gca()\n",
    "thth=THTH.thth_map(sp_sel.ss.Is,sp_sel.ss.tau,sp_sel.ss.fd,eta=0.8*u.us/(u.mHz**2),edges=edges)\n",
    "plt.imshow(abs(thth)**2,norm=LogNorm(vmin=vmin, vmax=vmax))\n",
    "plt.colorbar()\n",
    "plt.title(r'$\\eta= 0.8 s^3$')\n",
    "fig.add_axes([0.8,-0.45,0.35,0.35])\n",
    "frame1=plt.gca()\n",
    "thth_r, edges_r=THTH.thth_redmap(sp_sel.ss.Is,sp_sel.ss.tau,sp_sel.ss.fd,eta=0.8*u.us/(u.mHz**2),edges=edges)\n",
    "plt.imshow(abs(thth_r)**2,norm=LogNorm(vmin=vmin, vmax=vmax))\n",
    "plt.colorbar()"
   ]
  },
  {
   "cell_type": "code",
   "execution_count": null,
   "metadata": {},
   "outputs": [],
   "source": [
    "fitdic, fit_freq, fit_time, res_dic=fth.daniel_pars_fit(sp_sel, curv_par='eta', etas_pars=[0.25,5.5,0.25])"
   ]
  },
  {
   "cell_type": "code",
   "execution_count": null,
   "metadata": {
    "collapsed": true
   },
   "outputs": [],
   "source": [
    "mE, mI, mI=flip(model_field, axis=1), chi2"
   ]
  },
  {
   "cell_type": "code",
   "execution_count": null,
   "metadata": {},
   "outputs": [],
   "source": [
    "print (np.amin(edges_r), np.amax(edges_r))\n",
    "print (np.shape(thth_r))\n",
    "np.ptp(edges_r)"
   ]
  },
  {
   "cell_type": "code",
   "execution_count": null,
   "metadata": {},
   "outputs": [],
   "source": [
    "tau_r=sp_sel.ss.tau[(sp_sel.ss.tau.value>np.amin(edges_r)) & (sp_sel.ss.tau.value<np.amax(edges_r))]\n",
    "tau_r.shape"
   ]
  },
  {
   "cell_type": "code",
   "execution_count": null,
   "metadata": {},
   "outputs": [],
   "source": [
    "print (np.amin(sp_sel.ss.tau), np.amax(sp_sel.ss.tau))"
   ]
  },
  {
   "cell_type": "code",
   "execution_count": null,
   "metadata": {},
   "outputs": [],
   "source": [
    "eta=fitdic['eta']\n",
    "eta=0.8*u.us/(u.mHz**2)\n",
    "eta"
   ]
  },
  {
   "cell_type": "code",
   "execution_count": null,
   "metadata": {},
   "outputs": [],
   "source": [
    "thth_r, edges_r=THTH.thth_redmap(sp_sel.ss.Is,sp_sel.ss.tau,sp_sel.ss.fd,eta=eta,edges=edges)\n",
    "w, V = eigsh(thth_r,1,which='LA')\n",
    "thth2_red=np.outer(V,np.conjugate(V))\n",
    "thth2_red*=np.abs(w)\n",
    "fig=plt.figure(figsize=(9,2.5), dpi=150)\n",
    "fig.add_axes([-0.5,0.0,0.35,1.0])\n",
    "frame1=plt.gca()\n",
    "sp_sel.ss=sp_sel.make_ss(pad_it=True, npad=3)\n",
    "sp_sel.plot_ss(new_fig=False, vmin=7e6, vmax=7e8)\n",
    "\n",
    "fig.add_axes([0.0,0.0,0.35,1.0])\n",
    "frame1=plt.gca()\n",
    "plt.imshow(abs(thth_r)**2,norm=LogNorm(vmin=vmin, vmax=vmax))\n",
    "plt.colorbar()\n",
    "\n",
    "fig.add_axes([0.5,0.0,0.35,1.0])\n",
    "frame1=plt.gca()\n",
    "plt.imshow(abs(thth2_red)**2,norm=LogNorm(vmin=vmin, vmax=vmax))\n",
    "plt.colorbar()\n",
    "plt.savefig('daniels_thth_mapping.png',format='png', bbox_inches='tight',dpi=150)"
   ]
  },
  {
   "cell_type": "code",
   "execution_count": null,
   "metadata": {},
   "outputs": [],
   "source": [
    "tau, fd=sp_sel.ss.tau,sp_sel.ss.fd\n",
    "# Find bin centers\n",
    "th_cents = (edges_r[1:] + edges_r[:-1]) / 2\n",
    "th_cents -= th_cents[np.abs(th_cents) == np.abs(th_cents).min()]\n",
    "\n",
    "fd_map=(th_cents[np.newaxis,:]-th_cents[:,np.newaxis])\n",
    "tau_map=eta.value*(th_cents[np.newaxis,:]**2-th_cents[:,np.newaxis]**2)\n",
    "\n",
    "fd_edges=(np.linspace(0,fd.shape[0],fd.shape[0]+1)-.5)*(fd[1]-fd[0]).value+fd[0].value\n",
    "tau_edges=(np.linspace(0,tau.shape[0],tau.shape[0]+1)-.5)*(tau[1]-tau[0]).value+tau[0].value\n",
    "    \n",
    "recov=np.histogram2d(np.ravel(fd_map),np.ravel(tau_map),bins=(fd_edges,tau_edges),\n",
    "                     weights=np.ravel(thth2_red/np.sqrt(np.abs(2*eta*fd_map.T).value)).real)[0] +\\\n",
    "        np.histogram2d(np.ravel(fd_map),np.ravel(tau_map),bins=(fd_edges,tau_edges),\n",
    "                     weights=np.ravel(thth2_red/np.sqrt(np.abs(2*eta*fd_map.T).value)).imag)[0]*1j\n",
    "norm=np.histogram2d(np.ravel(fd_map),np.ravel(tau_map),bins=(fd_edges,tau_edges))[0]\n",
    "\n",
    "recov += np.histogram2d(np.ravel(-fd_map),np.ravel(-tau_map),bins=(fd_edges,tau_edges),\n",
    "                    weights=np.ravel(thth2_red/np.sqrt(np.abs(2*eta*fd_map.T).value)).real)[0] -\\\n",
    "        np.histogram2d(np.ravel(-fd_map),np.ravel(-tau_map),bins=(fd_edges,tau_edges),\n",
    "                    weights=np.ravel(thth2_red/np.sqrt(np.abs(2*eta*fd_map.T).value)).imag)[0]*1j\n",
    "norm+=np.histogram2d(np.ravel(-fd_map),np.ravel(-tau_map),bins=(fd_edges,tau_edges))[0] \n",
    "recov/=norm\n",
    "recov=np.nan_to_num(recov)\n",
    "\n",
    "np.shape(recov)\n",
    "\n"
   ]
  },
  {
   "cell_type": "code",
   "execution_count": null,
   "metadata": {},
   "outputs": [],
   "source": [
    "plt.imshow(np.abs(recov)[2700:3050,0:115].T, aspect='auto',norm=LogNorm(), vmin=1e2, vmax=1e4)\n",
    "plt.colorbar()"
   ]
  },
  {
   "cell_type": "code",
   "execution_count": null,
   "metadata": {},
   "outputs": [],
   "source": [
    "plt.imshow(np.abs(recov)[2700:3050,0:115].T, aspect='auto',norm=LogNorm(), vmin=1e2, vmax=1e4)\n",
    "plt.colorbar()"
   ]
  },
  {
   "cell_type": "code",
   "execution_count": null,
   "metadata": {},
   "outputs": [],
   "source": [
    "plt.imshow(np.abs(recov)[2700:3050,0:115].T, aspect='auto',norm=LogNorm(), vmin=1e2, vmax=1e4)\n",
    "plt.colorbar()"
   ]
  },
  {
   "cell_type": "markdown",
   "metadata": {},
   "source": [
    "# Marten apprpach"
   ]
  },
  {
   "cell_type": "code",
   "execution_count": null,
   "metadata": {
    "collapsed": true
   },
   "outputs": [],
   "source": [
    "spec=spec_sel\n",
    "s=0.5\n",
    "d_psr=1.3*u.kpc\n",
    "\n",
    "c=const.c\n",
    "d_eff=((1.-s)/s)*d_psr\n",
    "mu_eff=dsa.eta_to_mu(1.3*u.us/(u.mHz**2), spec, d_eff)\n",
    "fobs=np.mean(spec.f)\n",
    "\n",
    "dynspec=spec.I\n",
    "t=spec.t[:, np.newaxis]\n",
    "f=spec.f\n",
    "\n",
    "ss, tau, fd=dsa.mrt_ss(dynspec, f, t)"
   ]
  },
  {
   "cell_type": "code",
   "execution_count": null,
   "metadata": {},
   "outputs": [],
   "source": [
    "tau_max = (1./(f[3]-f[0])).to(u.us)\n",
    "print (tau_max)\n",
    "th_g = theta_grid(d_eff, mu_eff, fobs=fobs,\n",
    "                  dtau=1/f.ptp(), tau_max=tau_max,\n",
    "                  dfd=1/t.ptp(), fd_max=1*u.Hz)\n",
    "fd_g = (d_eff/const.c*mu_eff*fobs*th_g).to(\n",
    "    u.mHz, equivalencies=u.dimensionless_angles())\n",
    "tau_g = (d_eff/(2*const.c)*th_g**2).to(\n",
    "    u.us, equivalencies=u.dimensionless_angles())\n",
    "\n",
    "i0, i1 = theta_theta_indices(th_g)\n",
    "\n",
    "fig=plt.figure(figsize=(9,2.5), dpi=150)\n",
    "fig.add_axes([0.0,0.0,0.35,1.0])\n",
    "frame1=plt.gca()\n",
    "plt.plot(fd_g[i0]-fd_g[i1], tau_g[i0]-tau_g[i1], 'ko', ms=0.75)\n",
    "plt.plot(fd_g, tau_g, 'ro', ms=0.4)\n",
    "sec_extent = (fd[0].value, fd[-1].value, tau[0].value, tau[-1].value)\n",
    "plt.imshow(np.log10(ss.T), aspect='auto', extent=sec_extent,cmap='viridis')\n",
    "plt.xlabel(fd.unit.to_string('latex'))\n",
    "plt.ylabel(tau.unit.to_string('latex'))\n",
    "plt.xlim(-1.5, 1.5)\n",
    "plt.ylim(-0.2,1.5)\n",
    "plt.colorbar()\n",
    "\n",
    "fig.add_axes([0.5,0.0,0.35,1.0])\n",
    "frame1=plt.gca()\n",
    "plt.imshow(ss.T,norm=LogNorm(vmin=1e-3, vmax=1e0),aspect='auto',extent=sec_extent)\n",
    "plt.colorbar()\n",
    "plt.xlim(-1.5, 1.5)\n",
    "plt.ylim(-0.2,1.5)"
   ]
  },
  {
   "cell_type": "markdown",
   "metadata": {},
   "source": [
    "### Samples vector of thetas and transforms it to $\\tau$ and $f_D$:\n",
    "\n",
    "## $$\\tau \\left(\\bar{\\theta}\\right) =\\frac{\\bar{\\theta}^2 d_{\\text{eff}}}{2c}$$\n",
    "\n",
    "## $$f_D\\left(\\bar{\\theta}\\right) =  \\frac{v_{\\parallel} \\bar{\\theta}}{\\lambda}$$"
   ]
  },
  {
   "cell_type": "code",
   "execution_count": null,
   "metadata": {},
   "outputs": [],
   "source": [
    "ds = DynamicSpectrum(dynspec, f=f, t=t, noise=None, d_eff=d_eff,\n",
    "                     mu_eff=mu_eff, theta=th_r)\n",
    "\n",
    "th_th = ds.theta_theta()\n",
    "\n",
    "\n",
    "\n",
    "th_kwargs = dict(extent=(th_g[0].value, th_g[-1].value)*2,origin='lower')\n",
    "\n",
    "th_th_proj = ThetaTheta(th_r)\n",
    "\n",
    "fig=plt.figure(figsize=(9,2.5), dpi=150)\n",
    "fig.add_axes([-0.5,0.0,0.35,1.0])\n",
    "frame1=plt.gca()\n",
    "plt.plot(fd_g[i0]-fd_g[i1], tau_g[i0]-tau_g[i1], 'ko', ms=0.75)\n",
    "plt.plot(fd_g, tau_g, 'ro', ms=0.4)\n",
    "sec_extent = (fd[0].value, fd[-1].value, tau[0].value, tau[-1].value)\n",
    "plt.imshow(np.log10(ss.T), aspect='auto', extent=sec_extent,cmap='viridis')\n",
    "plt.xlabel(fd.unit.to_string('latex'))\n",
    "plt.ylabel(tau.unit.to_string('latex'))\n",
    "plt.xlim(-1.5, 1.5)\n",
    "plt.ylim(-0.2,1.5)\n",
    "plt.colorbar()\n",
    "\n",
    "\n",
    "fig.add_axes([0.0,0.0,0.35,1.0],projection=th_th_proj)\n",
    "frame1=plt.gca()\n",
    "plt.imshow(np.log10(np.maximum(np.abs(th_th)**2, 1e-30)), **th_kwargs, vmin=-6)\n",
    "plt.colorbar()\n",
    "plt.xlabel(th_g.unit.to_string('latex'))\n",
    "plt.ylabel(th_g.unit.to_string('latex'))\n",
    "\n",
    "\n",
    "#Calculate eigenvectors for inferred theta-theta.\n",
    "\n",
    "w, v = scipy.linalg.eigh(th_th, eigvals=(th_g.size-1, th_g.size-1))\n",
    "\n",
    "# Ideally, the eigenvalue is 1, but we want a normalized solution anyway,\n",
    "# so just use properly normalized eigenvector.\n",
    "recovered = v[:, -1]\n",
    "\n",
    "fig.add_axes([0.5,0.0,0.35,1.0], projection=th_th_proj)\n",
    "frame1=plt.gca()\n",
    "# Show the theta-theta implied by largest eigenvector.\n",
    "plt.imshow(np.log10(np.abs(np.outer(recovered, recovered.conj())**2)),\n",
    "          **th_kwargs)\n",
    "plt.colorbar()\n",
    "plt.xlabel(th_g.unit.to_string('latex'))\n",
    "plt.ylabel(th_g.unit.to_string('latex'))\n",
    "plt.savefig('martens_thth_mapping.png',format='png', bbox_inches='tight',dpi=150)"
   ]
  },
  {
   "cell_type": "code",
   "execution_count": null,
   "metadata": {
    "collapsed": true
   },
   "outputs": [],
   "source": [
    "dynwave_r = dynamic_field(th_r, 0, recovered, d_eff, mu_eff, f, t)\n",
    "dynspec_r = np.maximum(np.abs(dynwave_r.sum(0)) ** 2, 1e-30)\n",
    "\n",
    "# Mean of dynamic spectra should equal sum of all recovered powers.\n",
    "# Since we normalize that to (close to) 1, just rescale similarly here.\n",
    "dynspec_r *= dynspec.mean()/dynspec_r.mean()\n",
    "plt.imshow(dynspec_r.T, **ds_kwargs)\n",
    "plt.xlabel(t.unit.to_string('latex'))\n",
    "plt.ylabel(f.unit.to_string('latex'))\n",
    "plt.colorbar()"
   ]
  },
  {
   "cell_type": "code",
   "execution_count": null,
   "metadata": {
    "collapsed": true
   },
   "outputs": [],
   "source": [
    "    def theta_grid(self, oversample_tau=1.3, oversample_fd=1.69, **kwargs):\n",
    "        \"\"\"Calculate a grid of theta for modelling the dynamic spectrum.\n",
    "        Wraps `screens.fields.theta_grid` with defaults from the class.\n",
    "        See that function for details.\n",
    "        Note that this does *not* set the angles on the class, so typical\n",
    "        usage is ``ds.theta = ds.theta_grid()``.\n",
    "        \"\"\"\n",
    "        kwargs.setdefault('d_eff', self.d_eff)\n",
    "        kwargs.setdefault('mu_eff', self.mu_eff)\n",
    "        kwargs.setdefault('fobs', self.f.mean())\n",
    "        kwargs.setdefault('dtau', (1./self.f.ptp()).to(u.us)\n",
    "                          / oversample_tau)\n",
    "        kwargs.setdefault('dfd', (1./self.t.ptp()).to(u.mHz)\n",
    "                          / oversample_fd)\n",
    "        kwargs.setdefault('tau_max', 1/np.abs(self.f[2]-self.f[0]).min())\n",
    "        kwargs.setdefault('fd_max', 1/np.abs(self.t[2]-self.t[0]).min())\n",
    "        return theta_grid(**kwargs)\n",
    "\n",
    "    def dynamic_bases(self, mu_eff=None):\n",
    "        \"\"\"Calculate the amplitude infererence patterns for current fit.\n",
    "        The power of the sum of these amplitudes is a dynamic spectrum.\n",
    "        Explicitly assumes that time and frequency are the last two axes\n",
    "        of the dynamic spectrum.  (TODO: lift this restriction.)\n",
    "        Parameters\n",
    "        ----------\n",
    "        mu_eff : `~astropy.units.Quantity`, optional\n",
    "            Effective proper motion to use.  Defaults to that stored on\n",
    "            the instance.  Will *not* update the instance.\n",
    "        Notes\n",
    "        -----\n",
    "        The calculated dynamic bases are cached for a given ``mu_eff``.\n",
    "        \"\"\"\n",
    "        if mu_eff is None:\n",
    "            mu_eff = self.mu_eff\n",
    "\n",
    "        if mu_eff != getattr(self, '_mu_eff_old', None):\n",
    "            self._dyn_wave = dynamic_field(\n",
    "                self.theta, 0., 1.,\n",
    "                self.d_eff, mu_eff, self.f, self.t).reshape(\n",
    "                    (1,)*(self.dynspec.ndim-2)+(-1,)+self.dynspec.shape[-2:])\n",
    "            self._mu_eff_old = mu_eff\n",
    "\n",
    "        return self._dyn_wave\n",
    "\n",
    "    def theta_theta(self, mu_eff=None, theta_grid=None, **kwargs):\n",
    "        \"\"\"Create a theta-theta array from the dynamic spectrum.\n",
    "        For a given grid in ``theta`` (possibly calculated) and a set of pairs\n",
    "        found using `screens.fields.theta_theta_indices`, this brute-force\n",
    "        estimates the amplitudes at each pair by cross-multiplying their\n",
    "        expected signature in the dynamic spectrum.\n",
    "        Parameters\n",
    "        ----------\n",
    "        mu_eff : `~astropy.units.Quantity`, optional\n",
    "            Effective proper motion to use.  Defaults to that stored on\n",
    "            the instance.  Will update the instance if given.\n",
    "        theta_grid : bool, optional\n",
    "            Whether to calculate a new theta grid, or use the one stored\n",
    "            on the instance.  By default, calculate it only if ``mu_eff`` is\n",
    "            passed in.  If `True`, this will update the grid stored on the\n",
    "            instance.\n",
    "        **kwargs\n",
    "            Any further arguments are passed on to\n",
    "            `~screens.dynspec.DynamicSpectrum.theta_grid`\n",
    "        \"\"\"\n",
    "        if mu_eff is not None:\n",
    "            self.mu_eff = mu_eff\n",
    "\n",
    "        if theta_grid or (theta_grid is None and mu_eff is not None):\n",
    "            self.theta = self.theta_grid(**kwargs)\n",
    "            self._mu_eff_old = None\n",
    "\n",
    "        dynwave = self.dynamic_bases()\n",
    "        # Get intensities by brute-force mapping:\n",
    "        # dynspec * dynwave[j] * dynwave[i].conj() / sqrt(2) for all j > i\n",
    "        # Do first product ahead of time to speed up calculation\n",
    "        # (remove constant parts of input spectrum to eliminate edge effects)\n",
    "        ddyn = dynwave * np.expand_dims(\n",
    "            self.dynspec - self.dynspec.mean(), -3)\n",
    "        # Explicit loop is faster than just broadcasting or using indices\n",
    "        # for advanced indexing, since it avoids creating a large array.\n",
    "        result = np.zeros(self.dynspec.shape[:-2] + self.theta.shape * 2,\n",
    "                          ddyn.dtype)\n",
    "        indices = theta_theta_indices(self.theta)\n",
    "        for i, j in zip(*indices):\n",
    "            amplitude = ((ddyn[..., j, :, :]\n",
    "                          * dynwave[..., i, :, :].conj()).mean((-2, -1))\n",
    "                         / np.sqrt(2.))\n",
    "            result[..., i, j] = amplitude\n",
    "            result[..., j, i] = amplitude.conj()\n",
    "\n",
    "        return result\n",
    "\n",
    "    def locate_mu_eff(self, mu_eff_trials=None, verbose=True, use=True,\n",
    "                      **kwargs):\n",
    "        \"\"\"Try reproducing the dynamic spectrum for a range of proper motion.\n",
    "        For each proper motion, construct a theta-theta array, calculte the\n",
    "        largest eigenvalue and use the corresponding eigenvector as the model\n",
    "        one-dimensional screen.\n",
    "        Parameters\n",
    "        ----------\n",
    "        mu_eff_trials : `~astropy.units.Quantity`\n",
    "            Proper motions to try.\n",
    "        verbose : bool\n",
    "            Whether or not to give summary statistics for each trial.\n",
    "        use : bool\n",
    "            Whether to store the best-fit proper motion and corresponding\n",
    "            theta grid and magnifications on the instance.\n",
    "        **kwargs\n",
    "            Further parameters to use in calculating the theta grid for each\n",
    "            proper motion.\n",
    "        Returns\n",
    "        -------\n",
    "        curvature : `~astropy.table.QTable`\n",
    "            Table with the following columns:\n",
    "            - ``mu_eff`` : Input proper motions.\n",
    "            - ``theta`` : grid in theta used.\n",
    "            - ``w`` : Largest eigenvalue.\n",
    "            - ``recovered`` : corresponding eigenvector, i.e., magnifications.\n",
    "            - ``th_ms`` : Mean-square residual in theta-theta space.\n",
    "            - ``ndof`` : degrees of freedom ``n_dynspec - n_theta - 2``.\n",
    "            - ``redchi2`` : reduced chi2 ``((dynspec - model)/noise)**2/ndof``.\n",
    "        Notes\n",
    "        -----\n",
    "        The resulting table is also stored on the instance, as ``curvature``.\n",
    "        \"\"\"\n",
    "        if mu_eff_trials is None:\n",
    "            mu_eff_trials = np.linspace(self.mu_eff * 0.8,\n",
    "                                        self.mu_eff * 1.2, 21)\n",
    "        r = QTable([mu_eff_trials], names=['mu_eff'])\n",
    "        shape = (len(mu_eff_trials),) + self.dynspec.shape[:-2]\n",
    "        r['theta'] = np.zeros(len(mu_eff_trials), object)\n",
    "        r['w'] = np.zeros(shape)\n",
    "        r['recovered'] = np.zeros(len(mu_eff_trials), object)\n",
    "        r['th_ms'] = np.zeros(shape)\n",
    "        r['ndof'] = 0\n",
    "        r['redchi2'] = np.zeros(shape)\n",
    "        for i, mu_eff in enumerate(r['mu_eff']):\n",
    "            th_th = self.theta_theta(mu_eff, **kwargs)\n",
    "            w, v = eigh(th_th)\n",
    "            recovered = v[..., -1]\n",
    "            recovered0 = recovered[..., self.theta == 0]\n",
    "\n",
    "            recovered *= recovered0.conj()/np.abs(recovered0)\n",
    "\n",
    "            th_ms = (np.abs(\n",
    "                th_th - (recovered[..., :, np.newaxis]\n",
    "                         * recovered[..., np.newaxis, :].conj()))**2).mean()\n",
    "            dynspec_r = self.model(recovered, mu_eff=mu_eff)\n",
    "            # Mean of dynamic spectra should equal sum of all recovered powers.\n",
    "            # Since we normalize that to (close to) 1, just rescale similarly.\n",
    "            dynspec_r *= (self.dynspec.mean((-2, -1), keepdims=True)\n",
    "                          / dynspec_r.mean((-2, -1), keepdims=True))\n",
    "            ndof = (self.dynspec.shape[-1] * self.dynspec.shape[-2]\n",
    "                    - self.theta.size - 2)\n",
    "            redchi2 = (((self.dynspec-dynspec_r)**2).sum((-2, -1))\n",
    "                       / self.noise**2) / ndof\n",
    "            r['theta'][i] = self.theta\n",
    "            r['w'][i] = w[..., -1]\n",
    "            r['recovered'][i] = recovered\n",
    "            r['th_ms'][i] = th_ms\n",
    "            r['ndof'][i] = ndof\n",
    "            r['redchi2'][i] = redchi2\n",
    "            if verbose:\n",
    "                print(f'{mu_eff} {w[..., -1]} {ndof} {redchi2}')\n",
    "\n",
    "        self.curvature = r\n",
    "        if use:\n",
    "            ibest = r['redchi2'].argmin(0)\n",
    "            self.theta = r['theta'][ibest]\n",
    "            self.magnification = np.array(r['recovered'][ibest])\n",
    "            if self.dynspec.ndim > 2:\n",
    "                assert self.dynspec.ndim == 3, 'not implemented yet'\n",
    "                self.magnification = np.array(\n",
    "                    [self.magnification[i][i]\n",
    "                     for i in range(self.dynspec.shape[0])],\n",
    "                    dtype=object)\n",
    "            self.mu_eff = r['mu_eff'][ibest]\n",
    "\n",
    "        return r"
   ]
  },
  {
   "cell_type": "code",
   "execution_count": null,
   "metadata": {
    "collapsed": true
   },
   "outputs": [],
   "source": [
    "def expand(*arrays, n=2):\n",
    "    \"\"\"Add n unity axes to the end of all arrays.\"\"\"\n",
    "    result = [np.reshape(array, np.shape(array)+(1,)*n)\n",
    "              for array in arrays]\n",
    "    return result if len(arrays) > 1 else result[0]\n"
   ]
  },
  {
   "cell_type": "code",
   "execution_count": null,
   "metadata": {},
   "outputs": [],
   "source": [
    "f.ndim"
   ]
  },
  {
   "cell_type": "code",
   "execution_count": null,
   "metadata": {
    "collapsed": true
   },
   "outputs": [],
   "source": [
    "def dynamic_field(theta_par, theta_perp, realization, d_eff, mu_eff, f, t,\n",
    "                  fast=True):\n",
    "    \"\"\"Given a set of scattering points, construct the dynamic wave field.\n",
    "\n",
    "    Parameters\n",
    "    ----------\n",
    "    theta_par : ~astropy.units.Quantity\n",
    "        Angles of the scattering point in the direction parallel to ``mu_eff``\n",
    "    theta_perp : ~astropy.units.Quantity\n",
    "        Angles perpendicular to ``mu_eff``.\n",
    "    realization : array-like\n",
    "        Complex amplitudes of the scattering points.  Set to ``1.`` to avoid\n",
    "        using it.\n",
    "    d_eff : ~astropy.units.Quantity\n",
    "        Effective distance.  Should be constant; if different for\n",
    "        different points, no screen-to-screen scattering is taken into\n",
    "        account.\n",
    "    mu_eff : ~astropy.units.Quantity\n",
    "        Effective proper motion (``v_eff / d_eff``), i.e., parallel to\n",
    "        ``theta_par``.\n",
    "    t : ~astropy.units.Quantity\n",
    "        Times for which the dynamic wave spectrum should be calculated.\n",
    "        Should broadcast with ``f`` to give the dynamic spectrum shape.\n",
    "    f : ~astropy.units.frequency\n",
    "        Frequencies for which the spectrum should be calculated.\n",
    "        Should broadcast with ``t`` to give the dynamic spectrum shape.\n",
    "    fast : bool\n",
    "        Calculates the field faster by iteratively applying a phasor for each\n",
    "        the frequency step along the frequency axis. Assumes the frequencies\n",
    "        are a linear sequence.  Will lead to inaccuracies at the 1e-9 level,\n",
    "        which should be negligible for most purposes.\n",
    "\n",
    "    Returns\n",
    "    -------\n",
    "    dynwave : array\n",
    "        Delayed wave field array, with time and frequency axes as given by\n",
    "        ``t`` and ``f``, and earlier axes as given by the other parameters.\n",
    "    \"\"\"\n",
    "    ds_ndim = np.broadcast(f, t).ndim\n",
    "    theta_par, theta_perp, realization, d_eff, mu_eff = expand(\n",
    "        theta_par, theta_perp, realization, d_eff, mu_eff, n=ds_ndim)\n",
    "    th_par = theta_par + mu_eff * t\n",
    "    tau_t = (((d_eff / (2*const.c)) * (th_par**2 + theta_perp**2))\n",
    "             .to(u.s, u.dimensionless_angles()))\n",
    "    result = phasor(f, tau_t, linear_axis=(f.shape.index(f.size)-f.ndim if fast else None))\n",
    "    if np.any(realization != 1.):\n",
    "        result *= realization\n",
    "    return result\n"
   ]
  },
  {
   "cell_type": "code",
   "execution_count": null,
   "metadata": {
    "collapsed": true
   },
   "outputs": [],
   "source": [
    "def phasor(indep, transform, linear_axis=None):\n",
    "    \"\"\"Calculate phase part of a Fourier transform like operation.\n",
    "\n",
    "    Simply calcated ``exp(-j*indep*transform)``, where generally the two\n",
    "    inputs will be on different dimensions, so that they broadcast against\n",
    "    each other.  If the independent variable spans a linearly spaced range,\n",
    "    one can use ``linear_axis`` to speed up the calculation by only calculating\n",
    "    ``exp(-j*indep[0]*transform)`` and ``exp(-j*(indep[1]-indep[0])*tranform)``\n",
    "    and filling the array by cumulative multiplication.\n",
    "\n",
    "    Parameters\n",
    "    ----------\n",
    "    indep : array_like\n",
    "        Independent variable.\n",
    "    transform : array_like\n",
    "        Transformed variable.  If an `~astropy.units.Quantity`, it must have\n",
    "        the inverse units of ``indep``.  It should *not* include a factor 2pi.\n",
    "    linear_axis : int, optional\n",
    "        Possible axis along which ``indep`` changes by linear steps, and for\n",
    "        which the calculation can be sped up using cumulative multiplication.\n",
    "        This will lead to inaccuracies at the 1e-9 level, which should not\n",
    "        matter for most purposes.\n",
    "    \"\"\"\n",
    "    if linear_axis is None:\n",
    "        phasor = -1j * (indep * transform * u.cycle).to_value(u.rad)\n",
    "        phasor = np.exp(phasor, out=phasor)\n",
    "    else:\n",
    "        if linear_axis > 0:\n",
    "            linear_axis -= indep.ndim\n",
    "        extra_slice = (slice(None),) * (-1-linear_axis)\n",
    "        ph0_index = (Ellipsis, slice(0, 1)) + extra_slice\n",
    "        ph01_index = (Ellipsis, slice(0, 2)) + extra_slice\n",
    "        dph0_index = (Ellipsis, slice(1, None)) + extra_slice\n",
    "        ph0 = (indep[ph0_index] * transform * u.cycle).to_value(u.rad)\n",
    "        dph = (np.diff(indep[ph01_index], axis=linear_axis)\n",
    "               * transform * u.cycle).to_value(u.rad)\n",
    "        phasor = np.empty(np.broadcast(indep, transform).shape, complex)\n",
    "        phasor[ph0_index] = np.exp(-1j * ph0)\n",
    "        phasor[dph0_index] = np.exp(-1j * dph)\n",
    "        phasor = np.cumprod(phasor, out=phasor, axis=linear_axis)\n",
    "\n",
    "    return phasor\n"
   ]
  },
  {
   "cell_type": "code",
   "execution_count": null,
   "metadata": {
    "collapsed": true
   },
   "outputs": [],
   "source": []
  },
  {
   "cell_type": "code",
   "execution_count": null,
   "metadata": {
    "collapsed": true
   },
   "outputs": [],
   "source": []
  },
  {
   "cell_type": "code",
   "execution_count": null,
   "metadata": {
    "collapsed": true
   },
   "outputs": [],
   "source": [
    "\n",
    "tau_max = (1./(f[3]-f[0])).to(u.us)\n",
    "th_g = theta_grid(d_eff, mu_eff, fobs=fobs,\n",
    "                  dtau=1/f.ptp(), tau_max=tau_max,\n",
    "                  dfd=1/t.ptp(), fd_max=1*u.Hz)\n",
    "fd_g = (d_eff/const.c*mu_eff*fobs*th_g).to(\n",
    "    u.mHz, equivalencies=u.dimensionless_angles())\n",
    "tau_g = (d_eff/(2*const.c)*th_g**2).to(\n",
    "    u.us, equivalencies=u.dimensionless_angles())\n",
    "i0, i1 = theta_theta_indices(th_g)\n",
    "plt.plot(fd_g[i0]-fd_g[i1], tau_g[i0]-tau_g[i1], 'bo', ms=0.2)\n",
    "plt.plot(fd_g, tau_g, 'ro', ms=0.4)\n",
    "sec_extent = (fd[0].value, fd[-1].value, tau[0].value, tau[-1].value)\n",
    "plt.imshow(np.log10(ss.T), origin=0, aspect='auto', extent=sec_extent,\n",
    "           cmap='Greys', vmin=-7, vmax=0)\n",
    "plt.xlabel(fd.unit.to_string('latex'))\n",
    "plt.ylabel(tau.unit.to_string('latex'))\n",
    "plt.colorbar()"
   ]
  },
  {
   "cell_type": "code",
   "execution_count": null,
   "metadata": {
    "collapsed": true
   },
   "outputs": [],
   "source": [
    "# Create a DynamicSpectrum just to use its `theta_theta` method.\n",
    "ds = DynamicSpectrum(spec.I, f=spec.f, t=t, noise=None, d_eff=d_eff,\n",
    "                     mu_eff=mu_eff, theta=th_r)\n",
    "\n",
    "th_th = ds.theta_theta()\n",
    "th_th_proj = ThetaTheta(th_r)\n",
    "# Calculate eigenvectors for inferred theta-theta.\n",
    "\n",
    "w, v = scipy.linalg.eigh(th_th, eigvals=(th_r.size-1, th_r.size-1))\n",
    "recovered = v[:, -1]\n",
    "\n",
    "# Show the theta-theta implied by largest eigenvector.\n",
    "# As well as the corresponding dynamic spetrum.\n",
    "\n",
    "\n",
    "dynwave_r = dynamic_field(th_r, 0, recovered, d_eff, mu_eff, spec.f, t)\n",
    "dynspec_r = np.maximum(np.abs(dynwave_r.sum(0)) ** 2, 1e-30)\n",
    "if plot_mds is True:\n",
    "    vmin, vmax=np.percentile(dynspec_r, [1,99])\n",
    "    plt.imshow(dynspec_r.T, aspect='auto', vmin=vmin, vmax=vmax, origin='lower')\n",
    "    plt.show()\n",
    "# Mean of dynamic spectra should equal sum of all recovered powers.\n",
    "# Since we normalize that to (close to) 1, just rescale similarly here.\n",
    "dynspec_r *= ds.dynspec.mean()/dynspec_r.mean()\n",
    "N=np.std(ds.dynspec)\n",
    "chi2=((ds.dynspec-dynspec_r)**2).mean()/N**2\n",
    "\n",
    "return chi2"
   ]
  },
  {
   "cell_type": "code",
   "execution_count": null,
   "metadata": {
    "collapsed": true
   },
   "outputs": [],
   "source": []
  }
 ],
 "metadata": {
  "kernelspec": {
   "display_name": "Python 3",
   "language": "python",
   "name": "python3"
  },
  "language_info": {
   "codemirror_mode": {
    "name": "ipython",
    "version": 3
   },
   "file_extension": ".py",
   "mimetype": "text/x-python",
   "name": "python",
   "nbconvert_exporter": "python",
   "pygments_lexer": "ipython3",
   "version": "3.6.3"
  }
 },
 "nbformat": 4,
 "nbformat_minor": 2
}
